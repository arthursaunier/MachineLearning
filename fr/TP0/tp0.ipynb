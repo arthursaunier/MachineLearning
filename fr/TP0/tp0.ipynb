{
 "cells": [
  {
   "cell_type": "markdown",
   "id": "ba1e20e8",
   "metadata": {},
   "source": [
    "### 0bjectifs\n",
    "\n",
    "* Comprendre les bases de la programmation Python :\n",
    "* Variables, types de données, listes, ensembles et tuples.\n",
    "* Expressions conditionnelles et boucles\n",
    "* Trier\n",
    "* Dictionnaire\n",
    "* Fichiers et interaction avec les utilisateurs\n",
    "* Numpy"
   ]
  },
  {
   "cell_type": "markdown",
   "id": "dd0764cc",
   "metadata": {},
   "source": [
    "#### Exercice 1\n",
    "\n",
    "1\\. Commentaires\n"
   ]
  },
  {
   "cell_type": "code",
   "execution_count": 89,
   "id": "33aee9f9",
   "metadata": {},
   "outputs": [
    {
     "name": "stdout",
     "output_type": "stream",
     "text": [
      "Bonjour\n"
     ]
    }
   ],
   "source": [
    "# Ceci est un commentaire\n",
    "print(\"Bonjour\")"
   ]
  },
  {
   "cell_type": "markdown",
   "id": "93a4cc90",
   "metadata": {},
   "source": [
    "2\\. Variables\n",
    "\n"
   ]
  },
  {
   "cell_type": "code",
   "execution_count": 90,
   "id": "91667dee",
   "metadata": {},
   "outputs": [
    {
     "name": "stdout",
     "output_type": "stream",
     "text": [
      "le monde!\n"
     ]
    }
   ],
   "source": [
    "# une variable\n",
    "message = \"le monde!\"\n",
    "print(message)"
   ]
  },
  {
   "cell_type": "code",
   "execution_count": 91,
   "id": "e98bd1a5",
   "metadata": {},
   "outputs": [
    {
     "name": "stdout",
     "output_type": "stream",
     "text": [
      "30\n"
     ]
    }
   ],
   "source": [
    "a = 10\n",
    "b = 20\n",
    "c = a + b\n",
    "print(c)"
   ]
  },
  {
   "cell_type": "code",
   "execution_count": 92,
   "id": "cd0244c7",
   "metadata": {},
   "outputs": [
    {
     "name": "stdout",
     "output_type": "stream",
     "text": [
      "3.14\n"
     ]
    }
   ],
   "source": [
    "# nombres réels\n",
    "pi = 3.14\n",
    "print(pi)"
   ]
  },
  {
   "cell_type": "code",
   "execution_count": 93,
   "id": "2343d49a",
   "metadata": {},
   "outputs": [
    {
     "name": "stdout",
     "output_type": "stream",
     "text": [
      "<class 'str'>\n",
      "<class 'int'>\n",
      "<class 'float'>\n"
     ]
    }
   ],
   "source": [
    "# types de donnés\n",
    "message1 = \"Bonjour\"\n",
    "a = 12\n",
    "pi = 3.14\n",
    "print(type(message1))\n",
    "print(type(a))\n",
    "print(type(pi))"
   ]
  },
  {
   "cell_type": "markdown",
   "id": "1807e9d1",
   "metadata": {},
   "source": [
    "3\\. Concaténation de deux chaînes de caractères\n",
    "\n"
   ]
  },
  {
   "cell_type": "code",
   "execution_count": 94,
   "id": "4e216cf6",
   "metadata": {},
   "outputs": [
    {
     "name": "stdout",
     "output_type": "stream",
     "text": [
      "Bonjour le monde!\n"
     ]
    }
   ],
   "source": [
    "# Concaténation de deux chaînes de caractères\n",
    "message = \"le monde!\"\n",
    "print(\"Bonjour \" + message)"
   ]
  },
  {
   "cell_type": "code",
   "execution_count": 95,
   "id": "8e447ff9",
   "metadata": {},
   "outputs": [
    {
     "name": "stdout",
     "output_type": "stream",
     "text": [
      "Bonjour le monde!\n"
     ]
    }
   ],
   "source": [
    "# Concaténation de deux chaînes de caractères\n",
    "message1 = \"Bonjour \"\n",
    "message2 = \"le monde!\"\n",
    "print(message1 + message2)"
   ]
  },
  {
   "cell_type": "code",
   "execution_count": 96,
   "id": "a044f22e",
   "metadata": {},
   "outputs": [],
   "source": [
    "# concaténation de deux variables de types de données différents\n",
    "# opération + sur deux types de données différents\n",
    "\n",
    "# Supprimer le commentaire ci-dessous et lancer le code\n",
    "message1 = \"Bonjour en Python\"\n",
    "a = 3\n",
    "#print(message1 + a)"
   ]
  },
  {
   "cell_type": "markdown",
   "id": "7d62591f",
   "metadata": {},
   "source": [
    "Pourquoi cette erreur ? Dans le code suivant, nous corrigeons cette erreur."
   ]
  },
  {
   "cell_type": "code",
   "execution_count": 97,
   "id": "35bc7885",
   "metadata": {},
   "outputs": [
    {
     "name": "stdout",
     "output_type": "stream",
     "text": [
      "Bonjour en Python 3\n"
     ]
    }
   ],
   "source": [
    "# solution de concaténation entre deux variables de types de données différents\n",
    "message1 = \"Bonjour en Python \"\n",
    "a = 3\n",
    "print(message1 + str(a))"
   ]
  },
  {
   "cell_type": "markdown",
   "id": "8300463a",
   "metadata": {},
   "source": [
    "4\\. Listes"
   ]
  },
  {
   "cell_type": "code",
   "execution_count": 98,
   "id": "f2452f4f",
   "metadata": {},
   "outputs": [
    {
     "name": "stdout",
     "output_type": "stream",
     "text": [
      "[10, 20, 30, 40, 50]\n"
     ]
    }
   ],
   "source": [
    "a = [10, 20, 30, 40, 50]\n",
    "print(a)"
   ]
  },
  {
   "cell_type": "code",
   "execution_count": 99,
   "id": "54c06c92",
   "metadata": {},
   "outputs": [
    {
     "name": "stdout",
     "output_type": "stream",
     "text": [
      "10\n",
      "20\n",
      "30\n",
      "40\n",
      "50\n"
     ]
    }
   ],
   "source": [
    "a = [10, 20, 30, 40, 50]\n",
    "print(a[0])\n",
    "print(a[1])\n",
    "print(a[2])\n",
    "print(a[3])\n",
    "print(a[4])"
   ]
  },
  {
   "cell_type": "code",
   "execution_count": 100,
   "id": "cb536c46",
   "metadata": {},
   "outputs": [],
   "source": [
    "#Supprimer le commentaire ci-dessous et lancer le code\n",
    "a = [10, 20, 30, 40, 50]\n",
    "#print(a[8])"
   ]
  },
  {
   "cell_type": "markdown",
   "id": "a0e872fd",
   "metadata": {},
   "source": [
    "Nous essayons d'accéder à un élément à un index qui n'existe pas"
   ]
  },
  {
   "cell_type": "code",
   "execution_count": 101,
   "id": "14befee1",
   "metadata": {},
   "outputs": [
    {
     "name": "stdout",
     "output_type": "stream",
     "text": [
      "B\n",
      "o\n",
      "n\n",
      "j\n",
      "o\n",
      "u\n",
      "r\n",
      " \n"
     ]
    }
   ],
   "source": [
    "message1 = \"Bonjour en Python \"\n",
    "print(message1[0])\n",
    "print(message1[1])\n",
    "print(message1[2])\n",
    "print(message1[3])\n",
    "print(message1[4])\n",
    "print(message1[5])\n",
    "print(message1[6])\n",
    "print(message1[7])"
   ]
  },
  {
   "cell_type": "markdown",
   "id": "567bd435",
   "metadata": {},
   "source": [
    "Le code ci-dessus affiche les différents caractères de la chaîne (ou liste de caractères).\n",
    "Nous allons maintenant obtenir la longueur de cette chaîne."
   ]
  },
  {
   "cell_type": "code",
   "execution_count": 102,
   "id": "0365cc81",
   "metadata": {},
   "outputs": [
    {
     "name": "stdout",
     "output_type": "stream",
     "text": [
      "18\n"
     ]
    }
   ],
   "source": [
    "message1 = \"Bonjour en Python \"\n",
    "print(len(message1))"
   ]
  },
  {
   "cell_type": "markdown",
   "id": "d29beafe",
   "metadata": {},
   "source": [
    "Nous allons maintenant créer une liste d'entiers"
   ]
  },
  {
   "cell_type": "code",
   "execution_count": 103,
   "id": "6d5cd009",
   "metadata": {},
   "outputs": [
    {
     "name": "stdout",
     "output_type": "stream",
     "text": [
      "5\n"
     ]
    }
   ],
   "source": [
    "a = [10, 20, 30, 40, 50]\n",
    "print(len(a))"
   ]
  },
  {
   "cell_type": "code",
   "execution_count": 104,
   "id": "a531cf4a",
   "metadata": {},
   "outputs": [
    {
     "name": "stdout",
     "output_type": "stream",
     "text": [
      "[10, 20, 30, 40, 50, 60]\n"
     ]
    }
   ],
   "source": [
    "a = [10, 20, 30, 40, 50]\n",
    "\n",
    "# ajouter un nouveau numéro à la fin de la liste\n",
    "a.append(60)\n",
    "print(a)"
   ]
  },
  {
   "cell_type": "code",
   "execution_count": 105,
   "id": "bb0b9124",
   "metadata": {},
   "outputs": [
    {
     "name": "stdout",
     "output_type": "stream",
     "text": [
      "[0, 20, 30, 40, 50]\n"
     ]
    }
   ],
   "source": [
    "a = [10, 20, 30, 40, 50]\n",
    "\n",
    "# modifier un numéro à un index donné\n",
    "a[0] = 0\n",
    "print(a)"
   ]
  },
  {
   "cell_type": "code",
   "execution_count": 106,
   "id": "acde8591",
   "metadata": {},
   "outputs": [
    {
     "name": "stdout",
     "output_type": "stream",
     "text": [
      "[10, 20, 30, 40, 50]\n"
     ]
    }
   ],
   "source": [
    "#Supprimer le commentaire ci-dessous et lancer le code\n",
    "a = [10, 20, 30, 40, 50]\n",
    "\n",
    "#a[6] = 20\n",
    "print(a)"
   ]
  },
  {
   "cell_type": "markdown",
   "id": "745317cf",
   "metadata": {},
   "source": [
    "Pourquoi cette erreur? Nous modifions un élément à un indice inexistant."
   ]
  },
  {
   "cell_type": "code",
   "execution_count": 107,
   "id": "617cbdc9",
   "metadata": {},
   "outputs": [
    {
     "name": "stdout",
     "output_type": "stream",
     "text": [
      "[0, 10, 20, 30, 40, 50]\n",
      "6\n"
     ]
    }
   ],
   "source": [
    "a = [10, 20, 30, 40, 50]\n",
    "\n",
    "# l'insertion d'un élément à un index particulier modifiera la liste\n",
    "a.insert(0, 0)\n",
    "print(a)\n",
    "print(len(a))"
   ]
  },
  {
   "cell_type": "code",
   "execution_count": 108,
   "id": "a77d68e4",
   "metadata": {},
   "outputs": [
    {
     "name": "stdout",
     "output_type": "stream",
     "text": [
      "[10, 20, 30, 40, 50, 60]\n",
      "6\n"
     ]
    }
   ],
   "source": [
    "a = [10, 20, 30, 40, 50]\n",
    "a.insert(6,60)\n",
    "print(a)\n",
    "print(len(a))"
   ]
  },
  {
   "cell_type": "code",
   "execution_count": 109,
   "id": "7f6ae698",
   "metadata": {},
   "outputs": [
    {
     "name": "stdout",
     "output_type": "stream",
     "text": [
      "[10, 20, 30, 40, 50, 60]\n",
      "6\n"
     ]
    }
   ],
   "source": [
    "a = [10, 20, 30, 40, 50]\n",
    "\n",
    "# Nous allons maintenant essayer d'insérer un nombre à un index plus grand que la longueur\n",
    "# de la liste. Nous veillerons à ce qu'il n'y ait pas d'erreur et le nouveau numéro\n",
    "# est ajouté à la fin de la liste\n",
    "a.insert(10,60)\n",
    "print(a)\n",
    "print(len(a))"
   ]
  },
  {
   "cell_type": "markdown",
   "id": "b7b1b7fe",
   "metadata": {},
   "source": [
    "5\\. Tuples (non-modifiable lists)\n",
    "\n"
   ]
  },
  {
   "cell_type": "code",
   "execution_count": 110,
   "id": "31b9d47b",
   "metadata": {},
   "outputs": [
    {
     "name": "stdout",
     "output_type": "stream",
     "text": [
      "(10, 20, 30, 40, 50)\n"
     ]
    }
   ],
   "source": [
    "a = (10, 20, 30, 40, 50)\n",
    "print(a)"
   ]
  },
  {
   "cell_type": "code",
   "execution_count": 111,
   "id": "0a2bf9fc",
   "metadata": {},
   "outputs": [
    {
     "name": "stdout",
     "output_type": "stream",
     "text": [
      "10\n"
     ]
    }
   ],
   "source": [
    "a = (10, 20, 30, 40, 50)\n",
    "print(a[0])"
   ]
  },
  {
   "cell_type": "code",
   "execution_count": 112,
   "id": "99f87ae4",
   "metadata": {},
   "outputs": [
    {
     "name": "stdout",
     "output_type": "stream",
     "text": [
      "(10, 20, 30, 40, 50)\n"
     ]
    }
   ],
   "source": [
    "a = (10, 20, 30, 40, 50)\n",
    "\n",
    "\n",
    "# Nous essayons maintenant de modifier un tuple\n",
    "# Décommentez le code ci-dessous et lancez le code\n",
    "# Un tupe est une liste non modifiable\n",
    "\n",
    "#a[0] = 0\n",
    "print(a)"
   ]
  },
  {
   "cell_type": "markdown",
   "id": "f576e026",
   "metadata": {},
   "source": [
    "6\\. Sets\n",
    "\n"
   ]
  },
  {
   "cell_type": "code",
   "execution_count": 113,
   "id": "be84e295",
   "metadata": {},
   "outputs": [
    {
     "name": "stdout",
     "output_type": "stream",
     "text": [
      "{50, 20, 40, 10, 30}\n"
     ]
    }
   ],
   "source": [
    "# Un ensemble(Set) est une collection d'éléments distincts\n",
    "\n",
    "a = {10, 20, 30, 40, 50, 10, 20, 30, 40, 50}\n",
    "print(a)"
   ]
  },
  {
   "cell_type": "code",
   "execution_count": 114,
   "id": "d42afed3",
   "metadata": {},
   "outputs": [
    {
     "name": "stdout",
     "output_type": "stream",
     "text": [
      "{50, 20, 40, 10, 30}\n"
     ]
    }
   ],
   "source": [
    "a = {10, 20, 30, 40, 50, 10, 20, 30, 40, 50}\n",
    "a.add(10)\n",
    "print(a)"
   ]
  },
  {
   "cell_type": "code",
   "execution_count": 115,
   "id": "de805dc8",
   "metadata": {},
   "outputs": [
    {
     "name": "stdout",
     "output_type": "stream",
     "text": [
      "{50, 20, 40, 10, 60, 30}\n"
     ]
    }
   ],
   "source": [
    "a = {10, 20, 30, 40, 50, 10, 20, 30, 40, 50}\n",
    "a.add(60)\n",
    "print(a)"
   ]
  },
  {
   "cell_type": "code",
   "execution_count": 116,
   "id": "561843d5",
   "metadata": {},
   "outputs": [
    {
     "name": "stdout",
     "output_type": "stream",
     "text": [
      "{50, 20, 10, 30}\n"
     ]
    }
   ],
   "source": [
    "a = {10, 20, 30, 40, 50, 10, 20, 30, 40, 50}\n",
    "a.remove(40)\n",
    "print(a)"
   ]
  },
  {
   "cell_type": "markdown",
   "id": "a7749f20",
   "metadata": {},
   "source": [
    "Nous allons maintenant essayer différents types de données avec les chiffres et afficher le résultat."
   ]
  },
  {
   "cell_type": "code",
   "execution_count": 117,
   "id": "50c403a6",
   "metadata": {},
   "outputs": [
    {
     "name": "stdout",
     "output_type": "stream",
     "text": [
      "{50, 20, 40, 10, 30}\n",
      "<class 'set'>\n",
      "(10, 20, 30, 40, 50, 10, 20, 30, 40, 50)\n",
      "<class 'tuple'>\n",
      "[10, 20, 30, 40, 50, 10, 20, 30, 40, 50]\n",
      "<class 'list'>\n"
     ]
    }
   ],
   "source": [
    "# set\n",
    "a = {10, 20, 30, 40, 50, 10, 20, 30, 40, 50}\n",
    "print(a)\n",
    "print(type(a))\n",
    " \n",
    "# tuple\n",
    "b = (10, 20, 30, 40, 50, 10, 20, 30, 40, 50)\n",
    "print(b)\n",
    "print(type(b))\n",
    " \n",
    "# list\n",
    "c= [10, 20, 30, 40, 50, 10, 20, 30, 40, 50]\n",
    "print(c)\n",
    "print(type(c))\n"
   ]
  },
  {
   "cell_type": "markdown",
   "id": "22cb620d",
   "metadata": {},
   "source": [
    "#### Exercice 2\n",
    "\n",
    "1\\. Expressions conditionnelles\n"
   ]
  },
  {
   "cell_type": "code",
   "execution_count": 118,
   "id": "06e77ee3",
   "metadata": {},
   "outputs": [
    {
     "name": "stdout",
     "output_type": "stream",
     "text": [
      "12  is divisible by 2\n"
     ]
    }
   ],
   "source": [
    "a = 12\n",
    "if( a%2 == 0):\n",
    "    print(a, \" is divisible by 2\")\n",
    "else:\n",
    "    print(a, \" is not divisible by 2\")"
   ]
  },
  {
   "cell_type": "code",
   "execution_count": 119,
   "id": "09127590",
   "metadata": {},
   "outputs": [
    {
     "name": "stdout",
     "output_type": "stream",
     "text": [
      "Bonjour le monde!\n"
     ]
    }
   ],
   "source": [
    "lang = \"Français\"\n",
    "if (lang ==\"Français\"):\n",
    "    print(\"Bonjour le monde!\")\n",
    "else:\n",
    "    print(\"Hello World!\")"
   ]
  },
  {
   "cell_type": "markdown",
   "id": "5af3cd5b",
   "metadata": {},
   "source": [
    "2\\. Boucles\n",
    "\n",
    "Les boucles peuvent également être utilisées pour accéder aux éléments de différents indices."
   ]
  },
  {
   "cell_type": "code",
   "execution_count": 120,
   "id": "bcdff5a2",
   "metadata": {},
   "outputs": [
    {
     "name": "stdout",
     "output_type": "stream",
     "text": [
      "10\n",
      "20\n",
      "30\n",
      "40\n",
      "50\n",
      "10\n",
      "20\n",
      "30\n",
      "40\n",
      "50\n"
     ]
    }
   ],
   "source": [
    "# liste\n",
    "for i in [10, 20, 30, 40, 50, 10, 20, 30, 40, 50]:\n",
    "    print(i)"
   ]
  },
  {
   "cell_type": "code",
   "execution_count": 121,
   "id": "a2ceca41",
   "metadata": {},
   "outputs": [
    {
     "name": "stdout",
     "output_type": "stream",
     "text": [
      "10\n",
      "20\n",
      "30\n",
      "40\n",
      "50\n",
      "10\n",
      "20\n",
      "30\n",
      "40\n",
      "50\n"
     ]
    }
   ],
   "source": [
    "# tuples\n",
    "for i in (10, 20, 30, 40, 50, 10, 20, 30, 40, 50):\n",
    "    print(i)"
   ]
  },
  {
   "cell_type": "code",
   "execution_count": 122,
   "id": "60f481f4",
   "metadata": {},
   "outputs": [
    {
     "name": "stdout",
     "output_type": "stream",
     "text": [
      "40\n",
      "10\n",
      "50\n",
      "20\n",
      "30\n"
     ]
    }
   ],
   "source": [
    "# set\n",
    "for i in {10, 20, 30, 40, 50, 10, 20, 30, 40, 50}:\n",
    "    print(i)"
   ]
  },
  {
   "cell_type": "markdown",
   "id": "eaf97a1c",
   "metadata": {},
   "source": [
    "2\\. Limites\n",
    "\n"
   ]
  },
  {
   "cell_type": "code",
   "execution_count": 123,
   "id": "946a0fd8",
   "metadata": {},
   "outputs": [
    {
     "name": "stdout",
     "output_type": "stream",
     "text": [
      "0\n",
      "1\n",
      "2\n",
      "3\n",
      "4\n",
      "5\n",
      "6\n",
      "7\n",
      "8\n",
      "9\n"
     ]
    }
   ],
   "source": [
    "for i in range(0,10):\n",
    "    print(i)"
   ]
  },
  {
   "cell_type": "code",
   "execution_count": 124,
   "id": "c3631f67",
   "metadata": {},
   "outputs": [
    {
     "name": "stdout",
     "output_type": "stream",
     "text": [
      "0\n",
      "2\n",
      "4\n",
      "6\n",
      "8\n"
     ]
    }
   ],
   "source": [
    "for i in range(0,10,2):\n",
    "    print(i)"
   ]
  },
  {
   "cell_type": "code",
   "execution_count": 125,
   "id": "b9da4f41",
   "metadata": {},
   "outputs": [
    {
     "name": "stdout",
     "output_type": "stream",
     "text": [
      "0 2 4 6 8 "
     ]
    }
   ],
   "source": [
    "# print() par défaut affiche le message suivi d'une nouvelle ligne\n",
    "# Mais vous pouvez changer son comportement\n",
    "\n",
    "for i in range(0,10,2):\n",
    "    print(i, end=' ')"
   ]
  },
  {
   "cell_type": "code",
   "execution_count": 126,
   "id": "58a8a262",
   "metadata": {},
   "outputs": [
    {
     "name": "stdout",
     "output_type": "stream",
     "text": [
      "10\n",
      "8\n",
      "6\n",
      "4\n",
      "2\n"
     ]
    }
   ],
   "source": [
    "for i in range(10,0,-2):\n",
    "    print(i)"
   ]
  },
  {
   "cell_type": "code",
   "execution_count": 127,
   "id": "49442c5d",
   "metadata": {},
   "outputs": [],
   "source": [
    "for i in range(10,0):\n",
    "    print(i)"
   ]
  },
  {
   "cell_type": "markdown",
   "id": "0282854b",
   "metadata": {},
   "source": [
    "split(): La fonction peut être utilisée pour séparer une chaîne de caractères en utilisant \n",
    "un délimiteur spécifié. Par défaut, le délimiteur est un espace blanc."
   ]
  },
  {
   "cell_type": "code",
   "execution_count": 128,
   "id": "476da6f1",
   "metadata": {},
   "outputs": [
    {
     "name": "stdout",
     "output_type": "stream",
     "text": [
      "Bonjour,le,monde!\n"
     ]
    }
   ],
   "source": [
    "for i in \"Bonjour,le,monde!\".split():\n",
    "    print(i)"
   ]
  },
  {
   "cell_type": "code",
   "execution_count": 129,
   "id": "3ed84716",
   "metadata": {},
   "outputs": [
    {
     "name": "stdout",
     "output_type": "stream",
     "text": [
      "Bonjour\n",
      "le\n",
      "monde!\n"
     ]
    }
   ],
   "source": [
    "for i in \"Bonjour,le,monde!\".split(\",\"):\n",
    "    print(i)"
   ]
  },
  {
   "cell_type": "markdown",
   "id": "502fdd21",
   "metadata": {},
   "source": [
    "Write a program in Python to display the following output\n",
    "\n",
    "  \n",
    " 1\n",
    " \n",
    " 12\n",
    " \n",
    " 123\n",
    " \n",
    " 1234\n",
    " \n",
    " 12345\n",
    " \n",
    " 123456\n",
    " \n",
    " 1234567\n",
    " \n",
    " 12345678"
   ]
  },
  {
   "cell_type": "code",
   "execution_count": 130,
   "id": "eba30135",
   "metadata": {},
   "outputs": [
    {
     "name": "stdout",
     "output_type": "stream",
     "text": [
      "\n",
      "1 \n",
      "1 2 \n",
      "1 2 3 \n",
      "1 2 3 4 \n",
      "1 2 3 4 5 \n",
      "1 2 3 4 5 6 \n",
      "1 2 3 4 5 6 7 \n",
      "1 2 3 4 5 6 7 8 \n"
     ]
    }
   ],
   "source": [
    "for i in range(1,10):\n",
    "    for j in range(1, i):\n",
    "        print(j, end=' ')\n",
    "    print(\"\")"
   ]
  },
  {
   "cell_type": "markdown",
   "id": "23ce1fa7",
   "metadata": {},
   "source": [
    "#### Exercice 3\n",
    "\n",
    "1\\. Tri\n",
    "\n"
   ]
  },
  {
   "cell_type": "code",
   "execution_count": 131,
   "id": "08309ce5",
   "metadata": {},
   "outputs": [
    {
     "name": "stdout",
     "output_type": "stream",
     "text": [
      "[10, 10, 20, 20, 30, 30, 40, 40, 50, 50]\n"
     ]
    }
   ],
   "source": [
    "num = [10, 20, 30, 40, 50, 10, 20, 30, 40, 50]\n",
    "num.sort()\n",
    "print(num)"
   ]
  },
  {
   "cell_type": "markdown",
   "id": "93f24b6b",
   "metadata": {},
   "source": [
    "2\\. Tri (ordre décroissant)\n",
    "\n"
   ]
  },
  {
   "cell_type": "code",
   "execution_count": 132,
   "id": "f0b52ad9",
   "metadata": {},
   "outputs": [
    {
     "name": "stdout",
     "output_type": "stream",
     "text": [
      "[50, 50, 40, 40, 30, 30, 20, 20, 10, 10]\n"
     ]
    }
   ],
   "source": [
    "num = [10, 20, 30, 40, 50, 10, 20, 30, 40, 50]\n",
    "num.sort(reverse=True)\n",
    "print(num)"
   ]
  },
  {
   "cell_type": "markdown",
   "id": "51f417eb",
   "metadata": {},
   "source": [
    "3\\. minimum\n",
    "\n"
   ]
  },
  {
   "cell_type": "code",
   "execution_count": 133,
   "id": "6588c09c",
   "metadata": {},
   "outputs": [
    {
     "name": "stdout",
     "output_type": "stream",
     "text": [
      "10\n"
     ]
    }
   ],
   "source": [
    "num = [10, 20, 30, 40, 50, 10, 20, 30, 40, 50]\n",
    "print(min(num))"
   ]
  },
  {
   "cell_type": "markdown",
   "id": "284a6301",
   "metadata": {},
   "source": [
    "4\\. maximum\n",
    "\n"
   ]
  },
  {
   "cell_type": "code",
   "execution_count": 134,
   "id": "6d4a894f",
   "metadata": {},
   "outputs": [
    {
     "name": "stdout",
     "output_type": "stream",
     "text": [
      "50\n"
     ]
    }
   ],
   "source": [
    "num = [10, 20, 30, 40, 50, 10, 20, 30, 40, 50]\n",
    "print(max(num))"
   ]
  },
  {
   "cell_type": "markdown",
   "id": "710df47c",
   "metadata": {},
   "source": [
    "5\\. sorted()\n",
    "\n",
    "Vous pouvez utiliser cette fonction si vous ne souhaitez pas modifier votre liste initiale par un tri."
   ]
  },
  {
   "cell_type": "code",
   "execution_count": 135,
   "id": "4b613ed4",
   "metadata": {},
   "outputs": [
    {
     "name": "stdout",
     "output_type": "stream",
     "text": [
      "[70, 20, 30, 10, 50, 60, 20, 80, 70, 50]\n",
      "[80, 70, 70, 60, 50, 50, 30, 20, 20, 10]\n"
     ]
    }
   ],
   "source": [
    "num = [70, 20, 30, 10, 50, 60, 20, 80, 70, 50]\n",
    "tri = sorted(num,reverse=True)\n",
    "print(num)\n",
    "print(tri)"
   ]
  },
  {
   "cell_type": "code",
   "execution_count": 136,
   "id": "df634145",
   "metadata": {},
   "outputs": [
    {
     "name": "stdout",
     "output_type": "stream",
     "text": [
      "[80, 70, 60, 50, 30]\n"
     ]
    }
   ],
   "source": [
    "num = {70, 20, 30, 10, 50, 60, 20, 80, 70, 50}\n",
    "\n",
    "# sélectionner les cinq premiers numéros\n",
    "tri = sorted(num,reverse=True)[:5]\n",
    "print(tri)"
   ]
  },
  {
   "cell_type": "markdown",
   "id": "5e649a1a",
   "metadata": {},
   "source": [
    "Modifiez le code donné ci-dessous pour afficher les cinq plus grands numéros uniques.\n"
   ]
  },
  {
   "cell_type": "code",
   "execution_count": 137,
   "id": "e23f1d69",
   "metadata": {},
   "outputs": [
    {
     "name": "stdout",
     "output_type": "stream",
     "text": [
      "['monde!', 'le', 'Bonjour']\n"
     ]
    }
   ],
   "source": [
    "print(sorted(\"Bonjour le monde!\".split(), key=str.lower, \n",
    "           reverse=True))\n",
    "  \n",
    "\n",
    "\n"
   ]
  },
  {
   "cell_type": "markdown",
   "id": "562e799b",
   "metadata": {},
   "source": [
    "#### Exercice 4\n",
    "\n",
    "1\\. Dictionnaire\n",
    "\n"
   ]
  },
  {
   "cell_type": "code",
   "execution_count": 138,
   "id": "872f06ed",
   "metadata": {},
   "outputs": [
    {
     "name": "stdout",
     "output_type": "stream",
     "text": [
      "{'contente': 12, 'content': 12, 'triste': 2}\n",
      "<class 'dict'>\n"
     ]
    }
   ],
   "source": [
    "a = {\"contente\": 12, \"content\": 12, \"triste\": 2}\n",
    "print(a)\n",
    "print(type(a))"
   ]
  },
  {
   "cell_type": "code",
   "execution_count": 139,
   "id": "233370ce",
   "metadata": {},
   "outputs": [
    {
     "name": "stdout",
     "output_type": "stream",
     "text": [
      "la phrase  contente  apparait  12  fois\n",
      "la phrase  content  apparait  12  fois\n",
      "la phrase  triste  apparait  2  fois\n"
     ]
    }
   ],
   "source": [
    "a = {\"contente\": 12, \"content\": 12, \"triste\": 2}\n",
    "for key in a:\n",
    "    print(\"la phrase \", key, \" apparait \", a[key], \" fois\")\n"
   ]
  },
  {
   "cell_type": "code",
   "execution_count": 140,
   "id": "00d384a7",
   "metadata": {},
   "outputs": [
    {
     "name": "stdout",
     "output_type": "stream",
     "text": [
      "la phrase  contente  apparait  12  fois\n",
      "la phrase  content  apparait  12  fois\n",
      "la phrase  triste  apparait  2  fois\n"
     ]
    }
   ],
   "source": [
    "a = {\"contente\": 12, \"content\": 12, \"triste\": 2}\n",
    "for key,value in a.items():\n",
    "    print(\"la phrase \", key, \" apparait \", value, \" fois\")\n",
    "  \n",
    "\n",
    "\n"
   ]
  },
  {
   "cell_type": "code",
   "execution_count": 141,
   "id": "aa7bbe2b",
   "metadata": {},
   "outputs": [
    {
     "name": "stdout",
     "output_type": "stream",
     "text": [
      "{'contente': 12, 'content': 12, 'triste': 2, 'joie': 10}\n"
     ]
    }
   ],
   "source": [
    "a = {\"contente\": 12, \"content\": 12, \"triste\": 2}\n",
    "a[\"joie\"] = 10\n",
    "print(a)\n",
    "  \n",
    "\n",
    "\n"
   ]
  },
  {
   "cell_type": "code",
   "execution_count": 142,
   "id": "69fb7fe0",
   "metadata": {},
   "outputs": [
    {
     "name": "stdout",
     "output_type": "stream",
     "text": [
      "{'contente': 12, 'content': 12}\n"
     ]
    }
   ],
   "source": [
    "a = {\"contente\": 12, \"content\": 12, \"triste\": 2}\n",
    "del a[\"triste\"]\n",
    "print(a)"
   ]
  },
  {
   "cell_type": "code",
   "execution_count": 143,
   "id": "547b655a",
   "metadata": {},
   "outputs": [
    {
     "name": "stdout",
     "output_type": "stream",
     "text": [
      "['content', 'contente', 'joie', 'triste']\n"
     ]
    }
   ],
   "source": [
    "mots = {\"contente\": 12, \"content\": 12, \"triste\": 2, \n",
    "     \"joie\" : 10}\n",
    "print(sorted(mots))"
   ]
  },
  {
   "cell_type": "code",
   "execution_count": 144,
   "id": "cd7f5ff0",
   "metadata": {},
   "outputs": [
    {
     "name": "stdout",
     "output_type": "stream",
     "text": [
      "[('contente', 12), ('content', 12), ('triste', 2), ('joie', 10)]\n"
     ]
    }
   ],
   "source": [
    "mots = {\"contente\": 12, \"content\": 12, \"triste\": 2, \n",
    "     \"joie\" : 10}\n",
    "mots_tuple = [(key, value) for key,value in mots.items()]\n",
    "print(mots_tuple)"
   ]
  },
  {
   "cell_type": "markdown",
   "id": "e1cabdd2",
   "metadata": {},
   "source": [
    "2\\. itemgetter"
   ]
  },
  {
   "cell_type": "code",
   "execution_count": 145,
   "id": "699551e3",
   "metadata": {},
   "outputs": [
    {
     "name": "stdout",
     "output_type": "stream",
     "text": [
      "[('triste', 2), ('joie', 10), ('contente', 12), ('content', 12)]\n"
     ]
    }
   ],
   "source": [
    "from operator import itemgetter\n",
    " \n",
    "mots = {\"contente\": 12, \"content\": 12, \"triste\": 2, \n",
    "     \"joie\" : 10}\n",
    "mots_tuple = [(key, value) for key,value in mots.items()]\n",
    "print(sorted(mots_tuple, key=itemgetter(1)))"
   ]
  },
  {
   "cell_type": "markdown",
   "id": "440f3746",
   "metadata": {},
   "source": [
    "3\\. Interaction with user"
   ]
  },
  {
   "cell_type": "code",
   "execution_count": 146,
   "id": "d8ad7d3c",
   "metadata": {},
   "outputs": [
    {
     "name": "stdout",
     "output_type": "stream",
     "text": [
      "art\n"
     ]
    }
   ],
   "source": [
    "nom = input(\"Quel est votre nom?\")\n",
    "print(nom)"
   ]
  },
  {
   "cell_type": "code",
   "execution_count": 147,
   "id": "cdcdfdc5",
   "metadata": {},
   "outputs": [],
   "source": [
    "# age = input(\"Quel est votre âge? \")\n",
    "# print(age)\n",
    "# print(type(age))"
   ]
  },
  {
   "cell_type": "code",
   "execution_count": 148,
   "id": "d5d52d9e",
   "metadata": {},
   "outputs": [],
   "source": [
    "# age = input(\"Quel est votre âge? \")\n",
    "# age = int(age)\n",
    "# print(age)\n",
    "# print(type(age))"
   ]
  },
  {
   "cell_type": "markdown",
   "id": "353b2959",
   "metadata": {},
   "source": [
    "**Question:** Ecrire un programme en Python qui interagit avec l'utilisateur pour\n",
    "obtenir les informations suivantes de 5 étudiants :\n",
    "\n",
    "- Nom de l'étudiant\n",
    "- Âge\n",
    "- Grades en 5 modules\n",
    "\n",
    "Une fois les informations obtenues pour les cinq étudiants, calculez\n",
    "et afficher les valeurs suivantes pour chaque module :\n",
    "\n",
    "- note moyenne\n",
    "- note maximale\n",
    "- note minimale"
   ]
  },
  {
   "cell_type": "code",
   "execution_count": 149,
   "id": "c5df9efe",
   "metadata": {},
   "outputs": [
    {
     "name": "stdout",
     "output_type": "stream",
     "text": [
      "18\n",
      "11\n",
      "14.5\n"
     ]
    }
   ],
   "source": [
    "import statistics\n",
    "\n",
    "nom = []\n",
    "age = []\n",
    "noteMath = []\n",
    "for i in range(2):\n",
    "    nom.append(input(\"Quel est votre nom?\"))\n",
    "    age.append(input(\"Quel est votre age?\"))\n",
    "    noteMath.append(int(input(\"Quel est votre note en math?\")))\n",
    "print(max(noteMath))\n",
    "print(min(noteMath))\n",
    "print(statistics.mean(noteMath))"
   ]
  },
  {
   "cell_type": "markdown",
   "id": "a1838930",
   "metadata": {},
   "source": [
    "#### Exercice 5\n",
    "\n",
    "Lire et écrire dans un fichier"
   ]
  },
  {
   "cell_type": "markdown",
   "id": "3a6dfc90",
   "metadata": {},
   "source": [
    "1\\. Fichiers\n"
   ]
  },
  {
   "cell_type": "code",
   "execution_count": 150,
   "id": "ebcadfb2",
   "metadata": {},
   "outputs": [],
   "source": [
    "# écrire dans un fichier\n",
    "message = \"Bonjour le monde\"\n",
    "with open(\"bonjour.txt\", \"w\") as file:\n",
    "    file.write(message)\n",
    "file.close()"
   ]
  },
  {
   "cell_type": "code",
   "execution_count": 151,
   "id": "082f15a6",
   "metadata": {},
   "outputs": [
    {
     "name": "stdout",
     "output_type": "stream",
     "text": [
      "Bonjour le monde\n"
     ]
    }
   ],
   "source": [
    "# lire un fichier\n",
    "with open(\"bonjour.txt\", \"r\") as file:\n",
    "    text = file.read()\n",
    "    print(text)\n",
    "file.close()"
   ]
  },
  {
   "cell_type": "code",
   "execution_count": 152,
   "id": "dca2cf01",
   "metadata": {},
   "outputs": [],
   "source": [
    "# écrire dans un fichier\n",
    "message1 = \"Bonjour le monde\"\n",
    "message2 = \"Programmation en Python\"\n",
    "with open(\"bonjour.txt\", \"w\") as file:\n",
    "    file.write(message1)\n",
    "    file.write(message2)\n",
    "file.close()"
   ]
  },
  {
   "cell_type": "code",
   "execution_count": 153,
   "id": "011b4e65",
   "metadata": {},
   "outputs": [
    {
     "name": "stdout",
     "output_type": "stream",
     "text": [
      "Bonjour le mondeProgrammation en Python\n"
     ]
    }
   ],
   "source": [
    "# lire un fichier\n",
    "with open(\"bonjour.txt\", \"r\") as file:\n",
    "    text = file.read()\n",
    "    print(text)\n",
    "file.close()"
   ]
  },
  {
   "cell_type": "code",
   "execution_count": 154,
   "id": "ea6a35ef",
   "metadata": {},
   "outputs": [
    {
     "name": "stdout",
     "output_type": "stream",
     "text": [
      "Bonjour le monde\n",
      "Programmation en Python\n"
     ]
    }
   ],
   "source": [
    "# Rédaction dans un fichier en utilisant le caractère de nouvelle ligne\n",
    "message1 = \"Bonjour le monde\\n\"\n",
    "message2 = \"Programmation en Python\"\n",
    "with open(\"bonjour.txt\", \"w\") as file:\n",
    "    file.write(message1)\n",
    "    file.write(message2)\n",
    "file.close()\n",
    " \n",
    "with open(\"bonjour.txt\", \"r\") as file:\n",
    "    text = file.read()\n",
    "    print(text)\n",
    "file.close()"
   ]
  },
  {
   "cell_type": "markdown",
   "id": "d4fe2648",
   "metadata": {},
   "source": [
    "2\\. readline()\n",
    "\n",
    "Cette fonction peut être utilisée pour lire un fichier ligne par ligne et non le contenu complet en un seul appel comme read()"
   ]
  },
  {
   "cell_type": "code",
   "execution_count": 155,
   "id": "023b3b53",
   "metadata": {},
   "outputs": [],
   "source": [
    "message1 = \"Bonjour le monde\\n\"\n",
    "message2 = \"Programmation en Python\"\n",
    "with open(\"bonjour.txt\", \"w\") as file:\n",
    "    file.write(message1)\n",
    "    file.write(message2)\n",
    "file.close()"
   ]
  },
  {
   "cell_type": "code",
   "execution_count": 156,
   "id": "3ae2d9dc",
   "metadata": {},
   "outputs": [
    {
     "name": "stdout",
     "output_type": "stream",
     "text": [
      "Bonjour le monde\n",
      "\n"
     ]
    }
   ],
   "source": [
    "with open(\"bonjour.txt\", \"r\") as file:\n",
    "    text = file.readline()\n",
    "    print(text)\n",
    "file.close()"
   ]
  },
  {
   "cell_type": "code",
   "execution_count": 157,
   "id": "ce529158",
   "metadata": {},
   "outputs": [],
   "source": [
    "message1 = \"Bonjour le monde\\n\"\n",
    "message2 = \"Programmation en Python\\n\"\n",
    "with open(\"bonjour.txt\", \"w\") as file:\n",
    "    file.write(message1)\n",
    "    file.write(message2)\n",
    "file.close()"
   ]
  },
  {
   "cell_type": "code",
   "execution_count": 158,
   "id": "86e77c16",
   "metadata": {},
   "outputs": [
    {
     "name": "stdout",
     "output_type": "stream",
     "text": [
      "Bonjour le monde\n",
      "\n",
      "Programmation en Python\n",
      "\n"
     ]
    }
   ],
   "source": [
    "with open(\"bonjour.txt\", \"r\") as file:\n",
    "    for line in file:\n",
    "        print(line)\n",
    "file.close()"
   ]
  },
  {
   "cell_type": "markdown",
   "id": "fa7bd5fb",
   "metadata": {},
   "source": [
    "**Question:** Copiez un fichier HTML dans votre répertoire. Ecrire un programme\n",
    "en Python pour obtenir les valeurs suivantes :\n",
    "\n",
    "- nombre de caractères dans le fichier HTML\n",
    "- nombre de lignes dans le fichier HTML\n",
    "- nombre de mots dans le fichier HTML\n",
    "- les vingt premiers mots du fichier HTML\n",
    "- des mots distincts dans le fichier HTML\n",
    "\n"
   ]
  },
  {
   "cell_type": "markdown",
   "id": "2a44451f",
   "metadata": {},
   "source": [
    "**Question:** Copier le CSV\n",
    "du fichier population.csv du dossier **data**. Le fichier contient les valeurs de population entre\n",
    "1901 et 2016. Écrivez un programme en Python pour obtenir la valeur maximale.\n",
    "\n",
    "- la valeur maximale de la population\n",
    "- la valeur minimale de la population\n"
   ]
  },
  {
   "cell_type": "markdown",
   "id": "c268c17d",
   "metadata": {},
   "source": [
    "# Numpy"
   ]
  },
  {
   "cell_type": "code",
   "execution_count": 159,
   "id": "1dccc934",
   "metadata": {},
   "outputs": [],
   "source": [
    "import numpy as np"
   ]
  },
  {
   "cell_type": "markdown",
   "id": "e275b649",
   "metadata": {},
   "source": [
    "## Les opérations sur les matrices"
   ]
  },
  {
   "cell_type": "code",
   "execution_count": 160,
   "id": "3ba818e2",
   "metadata": {},
   "outputs": [],
   "source": [
    "a1 = [1, 2, 3, 4]\n",
    "b1 = [5, 6, 7, 8]"
   ]
  },
  {
   "cell_type": "code",
   "execution_count": 161,
   "id": "1b0542b3",
   "metadata": {},
   "outputs": [
    {
     "name": "stdout",
     "output_type": "stream",
     "text": [
      "[ 6  8 10 12]\n"
     ]
    }
   ],
   "source": [
    "c1 = np.add(a1,b1)\n",
    "print(c1)"
   ]
  },
  {
   "cell_type": "code",
   "execution_count": 162,
   "id": "6e0ece80",
   "metadata": {},
   "outputs": [
    {
     "name": "stdout",
     "output_type": "stream",
     "text": [
      "[-4 -4 -4 -4]\n"
     ]
    }
   ],
   "source": [
    "c1 = np.subtract(a1,b1)\n",
    "print(c1)"
   ]
  },
  {
   "cell_type": "code",
   "execution_count": 163,
   "id": "7aa4326f",
   "metadata": {},
   "outputs": [
    {
     "name": "stdout",
     "output_type": "stream",
     "text": [
      "[ 5 12 21 32]\n"
     ]
    }
   ],
   "source": [
    "c1 = np.multiply(a1,b1)\n",
    "print(c1)"
   ]
  },
  {
   "cell_type": "code",
   "execution_count": 164,
   "id": "b1b929de",
   "metadata": {},
   "outputs": [
    {
     "name": "stdout",
     "output_type": "stream",
     "text": [
      "[20 24 28 32]\n"
     ]
    }
   ],
   "source": [
    "c1 = np.multiply(4,b1)\n",
    "print(c1)"
   ]
  },
  {
   "cell_type": "code",
   "execution_count": 165,
   "id": "acd2a42e",
   "metadata": {},
   "outputs": [
    {
     "name": "stdout",
     "output_type": "stream",
     "text": [
      "70\n"
     ]
    }
   ],
   "source": [
    "c1 = np.dot(a1,b1)\n",
    "print(c1)"
   ]
  },
  {
   "cell_type": "code",
   "execution_count": 166,
   "id": "8baeb9dd",
   "metadata": {},
   "outputs": [
    {
     "name": "stdout",
     "output_type": "stream",
     "text": [
      "[25 30 35 40]\n"
     ]
    }
   ],
   "source": [
    "c1 = np.dot(5,b1)\n",
    "print(c1)"
   ]
  },
  {
   "cell_type": "code",
   "execution_count": 167,
   "id": "8533e4a5",
   "metadata": {},
   "outputs": [
    {
     "name": "stdout",
     "output_type": "stream",
     "text": [
      "[10, 20, 30, 40, 50, 10, 20, 30, 40, 50]\n"
     ]
    }
   ],
   "source": [
    "b1 = [5, 6, 7, 8]\n",
    "c1 = np.dot(a1,b1)\n",
    "print(c)"
   ]
  },
  {
   "cell_type": "code",
   "execution_count": 168,
   "id": "f0e40450",
   "metadata": {},
   "outputs": [
    {
     "name": "stdout",
     "output_type": "stream",
     "text": [
      "1.5\n"
     ]
    }
   ],
   "source": [
    "a1 = [1, 2]\n",
    "moyen = np.average(a1)\n",
    "print(moyen)"
   ]
  },
  {
   "cell_type": "markdown",
   "id": "aa8912b7",
   "metadata": {},
   "source": [
    "## Tranposition matricielle"
   ]
  },
  {
   "cell_type": "code",
   "execution_count": 169,
   "id": "1aad36cd",
   "metadata": {},
   "outputs": [
    {
     "name": "stdout",
     "output_type": "stream",
     "text": [
      "[[5, 6, 7, 8, 9], [1, 2, 3, 4, 5]]\n",
      "[[5 1]\n",
      " [6 2]\n",
      " [7 3]\n",
      " [8 4]\n",
      " [9 5]]\n"
     ]
    }
   ],
   "source": [
    "b1 = [[5, 6, 7, 8, 9],\n",
    "      [1, 2, 3, 4, 5]]\n",
    "print(b1)\n",
    "b1 = np.array(b1)\n",
    "print(b1.T)"
   ]
  },
  {
   "cell_type": "markdown",
   "id": "13eb092a",
   "metadata": {},
   "source": [
    "## Séparer une matrice en deux, horizontalement et verticalement"
   ]
  },
  {
   "cell_type": "code",
   "execution_count": 170,
   "id": "2fa99f88",
   "metadata": {},
   "outputs": [
    {
     "name": "stdout",
     "output_type": "stream",
     "text": [
      "[[0 0]\n",
      " [0 1]\n",
      " [1 0]\n",
      " [1 1]]\n",
      "[[0]\n",
      " [0]\n",
      " [0]\n",
      " [1]]\n"
     ]
    }
   ],
   "source": [
    "a = [[0, 0, 0],\n",
    "        [0, 1, 0],\n",
    "        [1, 0, 0],\n",
    "        [1, 1, 1]]\n",
    "a = np.array(a)\n",
    "\n",
    "a = np.hsplit(a, [2])\n",
    "\n",
    "a1  = a[0]\n",
    "a2  = a[1]\n",
    "print(a1)\n",
    "print(a2)\n"
   ]
  },
  {
   "cell_type": "code",
   "execution_count": 171,
   "id": "2854f9ba",
   "metadata": {},
   "outputs": [
    {
     "name": "stdout",
     "output_type": "stream",
     "text": [
      "[[0 0 0]\n",
      " [0 1 0]]\n",
      "[[1 0 0]\n",
      " [1 1 1]]\n"
     ]
    }
   ],
   "source": [
    "a = [[0, 0, 0],\n",
    "        [0, 1, 0],\n",
    "        [1, 0, 0],\n",
    "        [1, 1, 1]]\n",
    "a = np.array(a)\n",
    "\n",
    "a = np.vsplit(a, [2])\n",
    "\n",
    "a1  = a[0]\n",
    "a2  = a[1]\n",
    "print(a1)\n",
    "print(a2)\n"
   ]
  },
  {
   "cell_type": "markdown",
   "id": "4874896a",
   "metadata": {},
   "source": [
    "## Les opérations sur les matrices bidimensionnelles"
   ]
  },
  {
   "cell_type": "code",
   "execution_count": 172,
   "id": "825f746f",
   "metadata": {},
   "outputs": [],
   "source": [
    "a2 = [[1, 2, 3, 4],\n",
    "     [1, 2, 3, 4]]\n",
    "b2 = [[5, 6, 7, 8],\n",
    "     [5, 6, 7, 8]]"
   ]
  },
  {
   "cell_type": "code",
   "execution_count": 173,
   "id": "16b8108f",
   "metadata": {},
   "outputs": [
    {
     "name": "stdout",
     "output_type": "stream",
     "text": [
      "[[ 6  8 10 12]\n",
      " [ 6  8 10 12]]\n"
     ]
    }
   ],
   "source": [
    "c2 = np.add(a2,b2)\n",
    "print(c2)"
   ]
  },
  {
   "cell_type": "code",
   "execution_count": 174,
   "id": "95572d5d",
   "metadata": {},
   "outputs": [
    {
     "name": "stdout",
     "output_type": "stream",
     "text": [
      "[[-4 -4 -4 -4]\n",
      " [-4 -4 -4 -4]]\n"
     ]
    }
   ],
   "source": [
    "c2 = np.subtract(a2,b2)\n",
    "print(c2)"
   ]
  },
  {
   "cell_type": "code",
   "execution_count": 175,
   "id": "05e79d3c",
   "metadata": {},
   "outputs": [
    {
     "name": "stdout",
     "output_type": "stream",
     "text": [
      "[[ 5 12 21 32]\n",
      " [ 5 12 21 32]]\n"
     ]
    }
   ],
   "source": [
    "c2 = np.multiply(a2,b2)\n",
    "print(c2)"
   ]
  },
  {
   "cell_type": "code",
   "execution_count": 176,
   "id": "8f05a85c",
   "metadata": {},
   "outputs": [
    {
     "name": "stdout",
     "output_type": "stream",
     "text": [
      "[[70 70]\n",
      " [70 70]]\n"
     ]
    }
   ],
   "source": [
    "a2 = [[1, 2, 3, 4],\n",
    "     [1, 2, 3, 4]]\n",
    "a2 = np.array(a2)\n",
    "b2 = [[5, 6, 7, 8],\n",
    "     [5, 6, 7, 8]]\n",
    "b2 = np.array(b2)\n",
    "c2 = np.dot(a2,b2.T)\n",
    "print(c2)"
   ]
  },
  {
   "cell_type": "markdown",
   "id": "36781c3b",
   "metadata": {},
   "source": [
    "## Redéfinir une matrice"
   ]
  },
  {
   "cell_type": "code",
   "execution_count": 177,
   "id": "8e973ad1",
   "metadata": {},
   "outputs": [
    {
     "name": "stdout",
     "output_type": "stream",
     "text": [
      "[[5 6 7 8]\n",
      " [5 6 7 8]]\n"
     ]
    }
   ],
   "source": [
    "b2.reshape(4,2)\n",
    "print(b2)"
   ]
  },
  {
   "cell_type": "markdown",
   "id": "0d181bf4",
   "metadata": {},
   "source": [
    "## Créer des matrices avec des nombres aléatoires"
   ]
  },
  {
   "cell_type": "code",
   "execution_count": 178,
   "id": "21c2c760",
   "metadata": {},
   "outputs": [
    {
     "name": "stdout",
     "output_type": "stream",
     "text": [
      "0.9501765472218678\n"
     ]
    }
   ],
   "source": [
    "a = np.random.rand()\n",
    "print(a)"
   ]
  },
  {
   "cell_type": "code",
   "execution_count": 179,
   "id": "7727af11",
   "metadata": {},
   "outputs": [
    {
     "name": "stdout",
     "output_type": "stream",
     "text": [
      "[0.86230969]\n"
     ]
    }
   ],
   "source": [
    "a = np.random.rand(1)\n",
    "print(a)"
   ]
  },
  {
   "cell_type": "code",
   "execution_count": 180,
   "id": "9d887144",
   "metadata": {},
   "outputs": [
    {
     "name": "stdout",
     "output_type": "stream",
     "text": [
      "[[0.13282558 0.55536214 0.58081259 0.16590602 0.67981241]\n",
      " [0.87849195 0.01561438 0.92086237 0.81830237 0.9695691 ]]\n"
     ]
    }
   ],
   "source": [
    "a = np.random.rand(2,5)\n",
    "print(a)"
   ]
  },
  {
   "cell_type": "code",
   "execution_count": 181,
   "id": "522774b4",
   "metadata": {},
   "outputs": [
    {
     "name": "stdout",
     "output_type": "stream",
     "text": [
      "[[[0.86896814 0.59136996 0.39440591]\n",
      "  [0.50103995 0.09999909 0.08928608]\n",
      "  [0.21627662 0.38334548 0.09898089]]\n",
      "\n",
      " [[0.04604263 0.43842529 0.89053211]\n",
      "  [0.06131859 0.23918318 0.8424403 ]\n",
      "  [0.58070136 0.43703481 0.1768149 ]]]\n"
     ]
    }
   ],
   "source": [
    "a = np.random.rand(2,3,3)\n",
    "print(a)"
   ]
  },
  {
   "cell_type": "code",
   "execution_count": 182,
   "id": "2deb3bd2",
   "metadata": {},
   "outputs": [
    {
     "name": "stdout",
     "output_type": "stream",
     "text": [
      "[0.]\n"
     ]
    }
   ],
   "source": [
    "a = np.zeros(1)\n",
    "print(a)"
   ]
  },
  {
   "cell_type": "code",
   "execution_count": 183,
   "id": "27e0f79a",
   "metadata": {},
   "outputs": [
    {
     "name": "stdout",
     "output_type": "stream",
     "text": [
      "[0]\n"
     ]
    }
   ],
   "source": [
    "a = np.zeros(1, dtype=int)\n",
    "print(a)"
   ]
  },
  {
   "cell_type": "code",
   "execution_count": 184,
   "id": "64333823",
   "metadata": {},
   "outputs": [
    {
     "name": "stdout",
     "output_type": "stream",
     "text": [
      "[[0 0 0 0 0]\n",
      " [0 0 0 0 0]]\n"
     ]
    }
   ],
   "source": [
    "a = np.zeros((2,5), dtype=int)\n",
    "print(a)"
   ]
  },
  {
   "cell_type": "markdown",
   "id": "9621e17e",
   "metadata": {},
   "source": [
    "## Quelques fonctions pour travailler avec des listes"
   ]
  },
  {
   "cell_type": "code",
   "execution_count": 185,
   "id": "1536b4af",
   "metadata": {},
   "outputs": [
    {
     "name": "stdout",
     "output_type": "stream",
     "text": [
      "15\n",
      "14\n",
      "13\n",
      "12\n"
     ]
    }
   ],
   "source": [
    "a = [12, 13, 14, 15]\n",
    "a_reverse = reversed(a)\n",
    "\n",
    "for num in a_reverse:\n",
    "    print(num)"
   ]
  },
  {
   "cell_type": "code",
   "execution_count": 186,
   "id": "dea6cc98",
   "metadata": {},
   "outputs": [
    {
     "name": "stdout",
     "output_type": "stream",
     "text": [
      "[(0, 'dimanche'), (1, 'lundi'), (2, 'mardi'), (3, 'mercredi'), (4, 'jeudi'), (5, 'vendredi')]\n",
      "[(1, 'dimanche'), (2, 'lundi'), (3, 'mardi'), (4, 'mercredi'), (5, 'jeudi'), (6, 'vendredi')]\n"
     ]
    }
   ],
   "source": [
    "jours = ['dimanche', 'lundi', 'mardi', 'mercredi', 'jeudi', 'vendredi']\n",
    "jours_num = list(enumerate(jours))\n",
    "print(jours_num)\n",
    "\n",
    "jours_num = list(enumerate(jours, start=1))\n",
    "print(jours_num)"
   ]
  },
  {
   "cell_type": "code",
   "execution_count": 187,
   "id": "cf117eac",
   "metadata": {},
   "outputs": [
    {
     "name": "stdout",
     "output_type": "stream",
     "text": [
      "[(1, 5), (2, 6), (3, 7), (4, 8)]\n"
     ]
    }
   ],
   "source": [
    "a1 = [1, 2, 3, 4]\n",
    "b1 = [5, 6, 7, 8]\n",
    "\n",
    "zipped = list(zip(a1, b1))\n",
    "print(zipped)"
   ]
  },
  {
   "cell_type": "code",
   "execution_count": 188,
   "id": "7769e1b1",
   "metadata": {},
   "outputs": [
    {
     "name": "stdout",
     "output_type": "stream",
     "text": [
      "[(0, (1, 5)), (1, (2, 6)), (2, (3, 7)), (3, (4, 8))]\n"
     ]
    }
   ],
   "source": [
    "a1 = [1, 2, 3, 4]\n",
    "b1 = [5, 6, 7, 8]\n",
    "\n",
    "ezipped = list(enumerate(zip(a1, b1)))\n",
    "print(ezipped)"
   ]
  }
 ],
 "metadata": {
  "kernelspec": {
   "display_name": "Python 3",
   "language": "python",
   "name": "python3"
  },
  "language_info": {
   "codemirror_mode": {
    "name": "ipython",
    "version": 3
   },
   "file_extension": ".py",
   "mimetype": "text/x-python",
   "name": "python",
   "nbconvert_exporter": "python",
   "pygments_lexer": "ipython3",
   "version": "3.10.1"
  }
 },
 "nbformat": 4,
 "nbformat_minor": 5
}
