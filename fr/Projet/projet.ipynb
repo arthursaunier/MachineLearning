{
 "cells": [
  {
   "cell_type": "markdown",
   "metadata": {},
   "source": [
    "# Projet Datamining\n",
    "\n",
    "*Théo Bruendet, Arthur Saunier, Ethan Caillot-Gallois*"
   ]
  },
  {
   "cell_type": "markdown",
   "metadata": {},
   "source": [
    "## Collecte de données\n",
    "\n",
    "Image pokemon de kaggle  \n",
    "licence: Attribution 4.0 International (CC BY 4.0)  \n",
    "Vishal Subbiah (Owner)  \n",
    "data scrapped from: https://pokemondb.net/pokedex/national  \n",
    "Source dataset: https://www.kaggle.com/datasets/vishalsubbiah/pokemon-images-and-types?resource=download  \n"
   ]
  },
  {
   "cell_type": "markdown",
   "metadata": {},
   "source": [
    "## Etiquetage et annotations des données:"
   ]
  },
  {
   "cell_type": "code",
   "execution_count": 22,
   "metadata": {},
   "outputs": [
    {
     "ename": "UnsupportedOperation",
     "evalue": "not writable",
     "output_type": "error",
     "traceback": [
      "\u001b[1;31m---------------------------------------------------------------------------\u001b[0m",
      "\u001b[1;31mUnsupportedOperation\u001b[0m                      Traceback (most recent call last)",
      "\u001b[1;32mc:\\Users\\arthu\\OneDrive\\Bureau\\CPE\\Année 2\\machineLearning\\MachineLearning\\fr\\Projet\\projet.ipynb Cell 4'\u001b[0m in \u001b[0;36m<module>\u001b[1;34m\u001b[0m\n\u001b[0;32m     <a href='vscode-notebook-cell:/c%3A/Users/arthu/OneDrive/Bureau/CPE/Ann%C3%A9e%202/machineLearning/MachineLearning/fr/Projet/projet.ipynb#ch0000003?line=25'>26</a>\u001b[0m \u001b[39mwith\u001b[39;00m \u001b[39mopen\u001b[39m(\u001b[39m'\u001b[39m\u001b[39mdata/pokemon.csv\u001b[39m\u001b[39m'\u001b[39m, newline\u001b[39m=\u001b[39m\u001b[39m'\u001b[39m\u001b[39m'\u001b[39m) \u001b[39mas\u001b[39;00m csvfile:\n\u001b[0;32m     <a href='vscode-notebook-cell:/c%3A/Users/arthu/OneDrive/Bureau/CPE/Ann%C3%A9e%202/machineLearning/MachineLearning/fr/Projet/projet.ipynb#ch0000003?line=26'>27</a>\u001b[0m     writer \u001b[39m=\u001b[39m csv\u001b[39m.\u001b[39mwriter(csvfile, field_names)\n\u001b[1;32m---> <a href='vscode-notebook-cell:/c%3A/Users/arthu/OneDrive/Bureau/CPE/Ann%C3%A9e%202/machineLearning/MachineLearning/fr/Projet/projet.ipynb#ch0000003?line=27'>28</a>\u001b[0m     writer\u001b[39m.\u001b[39;49mwriterows(row_list)\n",
      "\u001b[1;31mUnsupportedOperation\u001b[0m: not writable"
     ]
    }
   ],
   "source": [
    "from PIL import Image, ExifTags\n",
    "import csv\n",
    "\n",
    "file_list = []\n",
    "row_list = []\n",
    "#new_row = {}\n",
    "#Boucle qui parcoure le csv pokemon.csv, pour ensuite extraire le nom de chaque image (pour ensuite ouvrir tout les fichiers)\n",
    "\n",
    "with open('data/pokemon.csv', newline='') as csvfile:\n",
    "    reader = csv.DictReader(csvfile)\n",
    "    field_names = reader.fieldnames\n",
    "    field_names.append('dpi')\n",
    "    for row in reader:\n",
    "        #on récupère les données exif contenues dans les images\n",
    "        imgfile = \"data/images/\" + row['Name'] + \".png\"\n",
    "        file_list.append(imgfile)\n",
    "        img = Image.open(imgfile)\n",
    "        img.load()\n",
    "        #on rentre les données de dpi \n",
    "        if 'dpi' in img.info:\n",
    "            #new_row = {'Name' : str(row['Name']), 'Type1': str(row['Type1']), 'Type2' : str(row['Type2']), 'dpi' : str(img.info['dpi'])}\n",
    "            new_row = [str(row['Name']), str(row['Type1']), str(row['Type2']), str(img.info['dpi'])]\n",
    "            row_list.append(new_row)\n",
    "\n",
    "#on récupère les données exif contenues dans les images puis on les inscrit dans le CSV\n",
    "with open('data/pokemon.csv', newline='') as csvfile:\n",
    "    writer = csv.writer(csvfile, field_names)\n",
    "    writer.writerows(row_list)\n",
    "\n",
    "\n"
   ]
  },
  {
   "cell_type": "code",
   "execution_count": null,
   "metadata": {},
   "outputs": [],
   "source": []
  }
 ],
 "metadata": {
  "interpreter": {
   "hash": "2be5faf79681da6f2a61fdfdd5405d65d042280f7fba6178067603e3a2925119"
  },
  "kernelspec": {
   "display_name": "Python 3",
   "language": "python",
   "name": "python3"
  },
  "language_info": {
   "codemirror_mode": {
    "name": "ipython",
    "version": 3
   },
   "file_extension": ".py",
   "mimetype": "text/x-python",
   "name": "python",
   "nbconvert_exporter": "python",
   "pygments_lexer": "ipython3",
   "version": "3.10.1"
  }
 },
 "nbformat": 4,
 "nbformat_minor": 2
}
