{
 "cells": [
  {
   "cell_type": "markdown",
   "metadata": {},
   "source": [
    "Collecte de données\n",
    "\n",
    "Image pokemon de kaggle\n",
    "\n",
    "licence: Attribution 4.0 International (CC BY 4.0)\n",
    "\n",
    "Vishal Subbiah (Owner)\n",
    "\n",
    "data scrapped from: https://pokemondb.net/pokedex/national\n",
    "\n",
    "Source dataset: https://www.kaggle.com/datasets/vishalsubbiah/pokemon-images-and-types?resource=download\n"
   ]
  },
  {
   "cell_type": "code",
   "execution_count": null,
   "metadata": {},
   "outputs": [],
   "source": []
  }
 ],
 "metadata": {
  "language_info": {
   "name": "python"
  },
  "orig_nbformat": 4
 },
 "nbformat": 4,
 "nbformat_minor": 2
}
