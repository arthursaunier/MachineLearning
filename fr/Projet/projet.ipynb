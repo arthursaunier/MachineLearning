{
 "cells": [
  {
   "cell_type": "markdown",
   "metadata": {},
   "source": [
    "# Projet Datamining\n",
    "\n",
    "*Théo Bruendet, Arthur Saunier, Ethan Caillot-Gallois*"
   ]
  },
  {
   "cell_type": "markdown",
   "metadata": {},
   "source": [
    "## Collecte de données\n",
    "\n",
    "Image pokemon de kaggle  \n",
    "licence: Attribution 4.0 International (CC BY 4.0)  \n",
    "Vishal Subbiah (Owner)  \n",
    "data scrapped from: https://pokemondb.net/pokedex/national  \n",
    "Source dataset: https://www.kaggle.com/datasets/vishalsubbiah/pokemon-images-and-types?resource=download  \n"
   ]
  },
  {
   "cell_type": "markdown",
   "metadata": {},
   "source": [
    "## Etiquetage et annontations des données:"
   ]
  },
  {
   "cell_type": "code",
   "execution_count": 26,
   "metadata": {},
   "outputs": [
    {
     "ename": "TypeError",
     "evalue": "'DictWriter' object is not iterable",
     "output_type": "error",
     "traceback": [
      "\u001b[1;31m---------------------------------------------------------------------------\u001b[0m",
      "\u001b[1;31mTypeError\u001b[0m                                 Traceback (most recent call last)",
      "\u001b[1;32mc:\\Users\\arthu\\OneDrive\\Bureau\\CPE\\Année 2\\machineLearning\\MachineLearning\\fr\\Projet\\projet.ipynb Cell 4'\u001b[0m in \u001b[0;36m<module>\u001b[1;34m\u001b[0m\n\u001b[0;32m     <a href='vscode-notebook-cell:/c%3A/Users/arthu/OneDrive/Bureau/CPE/Ann%C3%A9e%202/machineLearning/MachineLearning/fr/Projet/projet.ipynb#ch0000001?line=14'>15</a>\u001b[0m \u001b[39mwith\u001b[39;00m \u001b[39mopen\u001b[39m(\u001b[39m'\u001b[39m\u001b[39mdata/pokemon.csv\u001b[39m\u001b[39m'\u001b[39m, newline\u001b[39m=\u001b[39m\u001b[39m'\u001b[39m\u001b[39m'\u001b[39m) \u001b[39mas\u001b[39;00m csvfile:\n\u001b[0;32m     <a href='vscode-notebook-cell:/c%3A/Users/arthu/OneDrive/Bureau/CPE/Ann%C3%A9e%202/machineLearning/MachineLearning/fr/Projet/projet.ipynb#ch0000001?line=15'>16</a>\u001b[0m     writer \u001b[39m=\u001b[39m csv\u001b[39m.\u001b[39mDictWriter(csvfile, field_names)\n\u001b[1;32m---> <a href='vscode-notebook-cell:/c%3A/Users/arthu/OneDrive/Bureau/CPE/Ann%C3%A9e%202/machineLearning/MachineLearning/fr/Projet/projet.ipynb#ch0000001?line=16'>17</a>\u001b[0m     \u001b[39mfor\u001b[39;00m row \u001b[39min\u001b[39;00m writer:\n\u001b[0;32m     <a href='vscode-notebook-cell:/c%3A/Users/arthu/OneDrive/Bureau/CPE/Ann%C3%A9e%202/machineLearning/MachineLearning/fr/Projet/projet.ipynb#ch0000001?line=17'>18</a>\u001b[0m         img \u001b[39m=\u001b[39m Image\u001b[39m.\u001b[39mopen(file_list(row))\n\u001b[0;32m     <a href='vscode-notebook-cell:/c%3A/Users/arthu/OneDrive/Bureau/CPE/Ann%C3%A9e%202/machineLearning/MachineLearning/fr/Projet/projet.ipynb#ch0000001?line=18'>19</a>\u001b[0m         img\u001b[39m.\u001b[39mload()\n",
      "\u001b[1;31mTypeError\u001b[0m: 'DictWriter' object is not iterable"
     ]
    }
   ],
   "source": [
    "from PIL import Image, ExifTags\n",
    "import csv\n",
    "\n",
    "file_list = []\n",
    "#Boucle qui parcoure le csv pokemon.csv, pour ensuite extraire le nom de chaque image (pour ensuite ouvrir tout les fichiers)\n",
    "\n",
    "with open('data/pokemon.csv', newline='') as csvfile:\n",
    "    reader = csv.DictReader(csvfile)\n",
    "    field_names = reader.fieldnames\n",
    "    for row in reader:\n",
    "        imgfile = \"data/images/\" + row['Name'] + \".png\"\n",
    "        file_list.append(imgfile)\n",
    "\n",
    "#on récupère les données exif contenues dans les images puis on les inscrit dans le CSV\n",
    "with open('data/pokemon.csv', newline='') as csvfile:\n",
    "    writer = csv.DictWriter(csvfile, field_names)\n",
    "    for img_file in file_list:\n",
    "        img = Image.open(img_file)\n",
    "        img.load()# Needed only for .png EXIF data (see citation above)\n",
    "        #print(img.info)\n",
    "\n",
    "\n",
    "\n",
    "\n",
    "\n"
   ]
  },
  {
   "cell_type": "code",
   "execution_count": null,
   "metadata": {},
   "outputs": [],
   "source": []
  }
 ],
 "metadata": {
  "interpreter": {
   "hash": "2be5faf79681da6f2a61fdfdd5405d65d042280f7fba6178067603e3a2925119"
  },
  "kernelspec": {
   "display_name": "Python 3",
   "language": "python",
   "name": "python3"
  },
  "language_info": {
   "codemirror_mode": {
    "name": "ipython",
    "version": 3
   },
   "file_extension": ".py",
   "mimetype": "text/x-python",
   "name": "python",
   "nbconvert_exporter": "python",
   "pygments_lexer": "ipython3",
   "version": "3.6.9"
  }
 },
 "nbformat": 4,
 "nbformat_minor": 2
}
