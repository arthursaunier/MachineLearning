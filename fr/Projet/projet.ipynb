{
 "cells": [
  {
   "cell_type": "markdown",
   "metadata": {},
   "source": [
    "Collecte de données\n",
    "\n",
    "Image pokemon de kaggle\n",
    "\n",
    "licence: Attribution 4.0 International (CC BY 4.0)\n",
    "\n",
    "Vishal Subbiah (Owner)\n",
    "\n",
    "data scrapped from: https://pokemondb.net/pokedex/national\n",
    "\n",
    "Source dataset: https://www.kaggle.com/datasets/vishalsubbiah/pokemon-images-and-types?resource=download\n"
   ]
  },
  {
   "cell_type": "code",
   "execution_count": 10,
   "metadata": {},
   "outputs": [
    {
     "name": "stdout",
     "output_type": "stream",
     "text": [
      "{'gamma': 0.45455, 'srgb': 0, 'dpi': (95.9866, 95.9866), 'transparency': b'\\x00\\x11\\x11\\x11\\x11\\x11\"33DDDDDUfffwwwwwwwww\\x88\\x88\\x88\\x88\\x88\\x88\\x88\\x88\\x88\\x99\\x99\\x99\\x99\\x99\\xbb\\xbb\\xbb\\xbb\\xbb\\xbb\\xbb\\xbb\\xbb\\xbb\\xbb\\xcc\\xcc\\xcc\\xcc\\xcc\\xcc\\xdd\\xee\\xee\\xee\\xee\\xee\\xee\\xee\\xee\\xee'}\n"
     ]
    }
   ],
   "source": [
    "from PIL import Image, ExifTags\n",
    "\n",
    "img = Image.open(\"data/images/bulbasaur.png\")\n",
    "\n",
    "img.load()  # Needed only for .png EXIF data (see citation above)\n",
    "print(img.info)"
   ]
  }
 ],
 "metadata": {
  "interpreter": {
   "hash": "2be5faf79681da6f2a61fdfdd5405d65d042280f7fba6178067603e3a2925119"
  },
  "kernelspec": {
   "display_name": "Python 3.10.1 64-bit",
   "language": "python",
   "name": "python3"
  },
  "language_info": {
   "codemirror_mode": {
    "name": "ipython",
    "version": 3
   },
   "file_extension": ".py",
   "mimetype": "text/x-python",
   "name": "python",
   "nbconvert_exporter": "python",
   "pygments_lexer": "ipython3",
   "version": "3.10.1"
  },
  "orig_nbformat": 4
 },
 "nbformat": 4,
 "nbformat_minor": 2
}
