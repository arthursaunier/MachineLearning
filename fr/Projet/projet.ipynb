{
 "cells": [
  {
   "cell_type": "markdown",
   "metadata": {},
   "source": [
    "Collecte de données\n",
    "Image pokemon de kaggle\n",
    "licence: Attribution 4.0 International (CC BY 4.0)\n",
    "Vishal Subbiah (Owner)\n",
    "data scrapped from: https://pokemondb.net/pokedex/national\n"
   ]
  },
  {
   "cell_type": "code",
   "execution_count": null,
   "metadata": {},
   "outputs": [],
   "source": []
  }
 ],
 "metadata": {
  "language_info": {
   "name": "python"
  },
  "orig_nbformat": 4
 },
 "nbformat": 4,
 "nbformat_minor": 2
}
