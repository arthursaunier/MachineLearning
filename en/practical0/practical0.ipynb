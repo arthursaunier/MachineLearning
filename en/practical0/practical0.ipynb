{
 "cells": [
  {
   "cell_type": "markdown",
   "id": "bdbdc58b",
   "metadata": {},
   "source": [
    "### Goals\n",
    "\n",
    "-   Understanding fundamentals of Python programming:\n",
    "-   Variables, data types, lists, sets and tuples.\n",
    "-   Conditional expressions and loops\n",
    "-   Sort\n",
    "-   Dictionary\n",
    "-   Files and user interaction\n",
    "\n"
   ]
  },
  {
   "cell_type": "markdown",
   "id": "09280256",
   "metadata": {},
   "source": [
    "#### Exercise 1\n",
    "\n",
    "1\\. Comments\n"
   ]
  },
  {
   "cell_type": "code",
   "execution_count": null,
   "id": "a0466357",
   "metadata": {},
   "outputs": [],
   "source": [
    "# This is a comment\n",
    "print(\"Bonjour\")"
   ]
  },
  {
   "cell_type": "markdown",
   "id": "d7d49807",
   "metadata": {},
   "source": [
    "2\\. Variables\n",
    "\n"
   ]
  },
  {
   "cell_type": "code",
   "execution_count": null,
   "id": "c8375f10",
   "metadata": {},
   "outputs": [],
   "source": [
    "# a variable\n",
    "message = \"le monde!\"\n",
    "print(message)"
   ]
  },
  {
   "cell_type": "code",
   "execution_count": null,
   "id": "4e90488a",
   "metadata": {},
   "outputs": [],
   "source": [
    "a = 10\n",
    "b = 20\n",
    "c = a + b\n",
    "print(c)"
   ]
  },
  {
   "cell_type": "code",
   "execution_count": null,
   "id": "f936c2a6",
   "metadata": {},
   "outputs": [],
   "source": [
    "# floating point numbers\n",
    "pi = 3.14\n",
    "print(pi)"
   ]
  },
  {
   "cell_type": "code",
   "execution_count": null,
   "id": "d45d99a1",
   "metadata": {},
   "outputs": [],
   "source": [
    "# data types\n",
    "message1 = \"Bonjour\"\n",
    "a = 12\n",
    "pi = 3.14\n",
    "print(type(message1))\n",
    "print(type(a))\n",
    "print(type(pi))"
   ]
  },
  {
   "cell_type": "markdown",
   "id": "649807c1",
   "metadata": {},
   "source": [
    "3\\. Concatenation of two strings\n",
    "\n"
   ]
  },
  {
   "cell_type": "code",
   "execution_count": null,
   "id": "5dda4f13",
   "metadata": {},
   "outputs": [],
   "source": [
    "# concatenation of two strings\n",
    "message = \"le monde!\"\n",
    "print(\"Bonjour\" + message)"
   ]
  },
  {
   "cell_type": "code",
   "execution_count": null,
   "id": "bef383c1",
   "metadata": {},
   "outputs": [],
   "source": [
    "# concatenation of two strings\n",
    "message1 = \"Bonjour \"\n",
    "message2 = \"le monde!\"\n",
    "print(message1 + message2)"
   ]
  },
  {
   "cell_type": "code",
   "execution_count": null,
   "id": "32b2b074",
   "metadata": {},
   "outputs": [],
   "source": [
    "# concatenation involving two variables of different data types\n",
    "# operation + on two different data types\n",
    "\n",
    "#Uncomment the print statement and run the code\n",
    "message1 = \"Bonjour en Python\"\n",
    "a = 3\n",
    "#print(message1 + a)"
   ]
  },
  {
   "cell_type": "markdown",
   "id": "4c3b2208",
   "metadata": {},
   "source": [
    "Why did you get this error? In the following code, we correct this error."
   ]
  },
  {
   "cell_type": "code",
   "execution_count": null,
   "id": "ab66875c",
   "metadata": {},
   "outputs": [],
   "source": [
    "# concatenation solution involving two variables of different data types\n",
    "message1 = \"Bonjour en Python \"\n",
    "a = 3\n",
    "print(message1 + str(a))"
   ]
  },
  {
   "cell_type": "markdown",
   "id": "0bd27772",
   "metadata": {},
   "source": [
    "4\\. Lists"
   ]
  },
  {
   "cell_type": "code",
   "execution_count": null,
   "id": "cacecd57",
   "metadata": {},
   "outputs": [],
   "source": [
    "a = [10, 20, 30, 40, 50]\n",
    "print(a)"
   ]
  },
  {
   "cell_type": "code",
   "execution_count": null,
   "id": "efcffcb1",
   "metadata": {},
   "outputs": [],
   "source": [
    "a = [10, 20, 30, 40, 50]\n",
    "print(a[0])\n",
    "print(a[1])\n",
    "print(a[2])\n",
    "print(a[3])\n",
    "print(a[4])"
   ]
  },
  {
   "cell_type": "code",
   "execution_count": null,
   "id": "fba08828",
   "metadata": {},
   "outputs": [],
   "source": [
    "#Uncomment the print statement and run the code\n",
    "a = [10, 20, 30, 40, 50]\n",
    "#print(a[8])"
   ]
  },
  {
   "cell_type": "markdown",
   "id": "a3781493",
   "metadata": {},
   "source": [
    "Why did you get this error? We are trying to access a element at an index that does not exist."
   ]
  },
  {
   "cell_type": "code",
   "execution_count": null,
   "id": "6bf430fa",
   "metadata": {},
   "outputs": [],
   "source": [
    "message1 = \"Bonjour en Python \"\n",
    "print(message1[0])\n",
    "print(message1[1])\n",
    "print(message1[2])\n",
    "print(message1[3])\n",
    "print(message1[4])\n",
    "print(message1[5])\n",
    "print(message1[6])\n",
    "print(message1[7])"
   ]
  },
  {
   "cell_type": "markdown",
   "id": "e70cc929",
   "metadata": {},
   "source": [
    "The above code displayed the individual characters in the string (or list of characters).\n",
    "We will now get the length of this string."
   ]
  },
  {
   "cell_type": "code",
   "execution_count": null,
   "id": "c5c64e9a",
   "metadata": {},
   "outputs": [],
   "source": [
    "message1 = \"Bonjour en Python \"\n",
    "print(len(message1))"
   ]
  },
  {
   "cell_type": "markdown",
   "id": "14d05b2f",
   "metadata": {},
   "source": [
    "Nous allons maintenant créer une liste d'entiers. "
   ]
  },
  {
   "cell_type": "code",
   "execution_count": null,
   "id": "78141c8d",
   "metadata": {},
   "outputs": [],
   "source": [
    "a = [10, 20, 30, 40, 50]\n",
    "print(len(a))"
   ]
  },
  {
   "cell_type": "code",
   "execution_count": null,
   "id": "b647981e",
   "metadata": {},
   "outputs": [],
   "source": [
    "a = [10, 20, 30, 40, 50]\n",
    "\n",
    "# add a new number at the end of the list\n",
    "a.append(60)\n",
    "print(a)"
   ]
  },
  {
   "cell_type": "code",
   "execution_count": null,
   "id": "6fbc3631",
   "metadata": {},
   "outputs": [],
   "source": [
    "a = [10, 20, 30, 40, 50]\n",
    "\n",
    "# modify a number at a particular index\n",
    "a[0] = 0\n",
    "print(a)"
   ]
  },
  {
   "cell_type": "markdown",
   "id": "82fc5e5d",
   "metadata": {},
   "source": [
    "Why did we get this error? We are modifying an element at a non-existing index."
   ]
  },
  {
   "cell_type": "code",
   "execution_count": null,
   "id": "18359528",
   "metadata": {},
   "outputs": [],
   "source": [
    "#Uncomment the assignment statement and run the code\n",
    "a = [10, 20, 30, 40, 50]\n",
    "#a[6] = 20\n",
    "print(a)"
   ]
  },
  {
   "cell_type": "code",
   "execution_count": null,
   "id": "3c336a50",
   "metadata": {},
   "outputs": [],
   "source": [
    "a = [10, 20, 30, 40, 50]\n",
    "\n",
    "# inserting an element at a particular index will modify the list\n",
    "a.insert(0, 0)\n",
    "print(a)\n",
    "print(len(a))"
   ]
  },
  {
   "cell_type": "code",
   "execution_count": null,
   "id": "b8882be8",
   "metadata": {},
   "outputs": [],
   "source": [
    "a = [10, 20, 30, 40, 50]\n",
    "a.insert(6,60)\n",
    "print(a)\n",
    "print(len(a))"
   ]
  },
  {
   "cell_type": "code",
   "execution_count": null,
   "id": "56c78aa9",
   "metadata": {},
   "outputs": [],
   "source": [
    "a = [10, 20, 30, 40, 50]\n",
    "\n",
    "# We will now try to insert a number at an index greater than the length\n",
    "# of the list. We will see that we do not get any error and the new number\n",
    "# is added at the end of the list\n",
    "a.insert(10,60)\n",
    "print(a)\n",
    "print(len(a))"
   ]
  },
  {
   "cell_type": "markdown",
   "id": "c91eaa9d",
   "metadata": {},
   "source": [
    "5\\. Tuples (non-modifiable lists)\n",
    "\n"
   ]
  },
  {
   "cell_type": "code",
   "execution_count": null,
   "id": "bb6811a5",
   "metadata": {},
   "outputs": [],
   "source": [
    "a = (10, 20, 30, 40, 50)\n",
    "print(a)"
   ]
  },
  {
   "cell_type": "code",
   "execution_count": null,
   "id": "21a48c1a",
   "metadata": {},
   "outputs": [],
   "source": [
    "a = (10, 20, 30, 40, 50)\n",
    "print(a[0])"
   ]
  },
  {
   "cell_type": "code",
   "execution_count": null,
   "id": "2a3834d3",
   "metadata": {},
   "outputs": [],
   "source": [
    "a = (10, 20, 30, 40, 50)\n",
    "\n",
    "# We now try to modify a tuple\n",
    "# Uncomment the code below and run the code\n",
    "# A tupe is a non-modifiable list\n",
    "\n",
    "#a[0] = 0\n",
    "print(a)"
   ]
  },
  {
   "cell_type": "markdown",
   "id": "271c22de",
   "metadata": {},
   "source": [
    "6\\. Sets\n",
    "\n"
   ]
  },
  {
   "cell_type": "code",
   "execution_count": null,
   "id": "e387c46a",
   "metadata": {},
   "outputs": [],
   "source": [
    "# A set is a collection of distinct elements\n",
    "a = {10, 20, 30, 40, 50, 10, 20, 30, 40, 50}\n",
    "print(a)"
   ]
  },
  {
   "cell_type": "code",
   "execution_count": null,
   "id": "507af93b",
   "metadata": {},
   "outputs": [],
   "source": [
    "a = {10, 20, 30, 40, 50, 10, 20, 30, 40, 50}\n",
    "a.add(10)\n",
    "print(a)"
   ]
  },
  {
   "cell_type": "code",
   "execution_count": null,
   "id": "4e895206",
   "metadata": {},
   "outputs": [],
   "source": [
    "a = {10, 20, 30, 40, 50, 10, 20, 30, 40, 50}\n",
    "a.add(60)\n",
    "print(a)"
   ]
  },
  {
   "cell_type": "code",
   "execution_count": null,
   "id": "bde07c5d",
   "metadata": {},
   "outputs": [],
   "source": [
    "a = {10, 20, 30, 40, 50, 10, 20, 30, 40, 50}\n",
    "a.remove(40)\n",
    "print(a)"
   ]
  },
  {
   "cell_type": "markdown",
   "id": "0d60e0d6",
   "metadata": {},
   "source": [
    "We will now try different data types with the numbers and print the result"
   ]
  },
  {
   "cell_type": "code",
   "execution_count": null,
   "id": "cf438a38",
   "metadata": {},
   "outputs": [],
   "source": [
    "# set\n",
    "a = {10, 20, 30, 40, 50, 10, 20, 30, 40, 50}\n",
    "print(a)\n",
    "print(type(a))\n",
    " \n",
    "# tuple\n",
    "b = (10, 20, 30, 40, 50, 10, 20, 30, 40, 50)\n",
    "print(b)\n",
    "print(type(b))\n",
    " \n",
    "# list\n",
    "c= [10, 20, 30, 40, 50, 10, 20, 30, 40, 50]\n",
    "print(c)\n",
    "print(type(c))\n"
   ]
  },
  {
   "cell_type": "markdown",
   "id": "ac3e4fe5",
   "metadata": {},
   "source": [
    "#### Exercise 2\n",
    "\n",
    "1\\. Conditional Expressions\n",
    "\n"
   ]
  },
  {
   "cell_type": "code",
   "execution_count": null,
   "id": "2cf3f9f5",
   "metadata": {},
   "outputs": [],
   "source": [
    "a = 12\n",
    "if( a%2 == 0):\n",
    "    print(a, \" is divisible by 2\")\n",
    "else:\n",
    "    print(a, \" is not divisible by 2\")"
   ]
  },
  {
   "cell_type": "code",
   "execution_count": null,
   "id": "eb487b61",
   "metadata": {},
   "outputs": [],
   "source": [
    "lang = \"Français\"\n",
    "if (lang ==\"Français\"):\n",
    "    print(\"Bonjour le monde!\")\n",
    "else:\n",
    "    print(\"Hello World!\")"
   ]
  },
  {
   "cell_type": "markdown",
   "id": "78a14220",
   "metadata": {},
   "source": [
    "2\\. Loops\n",
    "\n",
    "Loops can also be used to access the elements at different indices."
   ]
  },
  {
   "cell_type": "code",
   "execution_count": null,
   "id": "334bb39a",
   "metadata": {},
   "outputs": [],
   "source": [
    "for i in [10, 20, 30, 40, 50, 10, 20, 30, 40, 50]:\n",
    "    print(i)"
   ]
  },
  {
   "cell_type": "code",
   "execution_count": null,
   "id": "6fd0de4a",
   "metadata": {},
   "outputs": [],
   "source": [
    "for i in (10, 20, 30, 40, 50, 10, 20, 30, 40, 50):\n",
    "    print(i)"
   ]
  },
  {
   "cell_type": "code",
   "execution_count": null,
   "id": "46c4e6d8",
   "metadata": {},
   "outputs": [],
   "source": [
    "for i in {10, 20, 30, 40, 50, 10, 20, 30, 40, 50}:\n",
    "    print(i)"
   ]
  },
  {
   "cell_type": "markdown",
   "id": "60ddd6b8",
   "metadata": {},
   "source": [
    "2\\. Range\n",
    "\n"
   ]
  },
  {
   "cell_type": "code",
   "execution_count": null,
   "id": "1b209614",
   "metadata": {},
   "outputs": [],
   "source": [
    "for i in range(0,10):\n",
    "    print(i)"
   ]
  },
  {
   "cell_type": "code",
   "execution_count": null,
   "id": "fd0ddc76",
   "metadata": {},
   "outputs": [],
   "source": [
    "for i in range(0,10,2):\n",
    "    print(i)"
   ]
  },
  {
   "cell_type": "code",
   "execution_count": null,
   "id": "2f773915",
   "metadata": {},
   "outputs": [],
   "source": [
    "# print() by default displays the message followed by a new line\n",
    "# But you can change its behaviour\n",
    "for i in range(0,10,2):\n",
    "    print(i, end=' ')"
   ]
  },
  {
   "cell_type": "code",
   "execution_count": null,
   "id": "aa7c44f3",
   "metadata": {},
   "outputs": [],
   "source": [
    "for i in range(10,0,-2):\n",
    "    print(i)"
   ]
  },
  {
   "cell_type": "code",
   "execution_count": null,
   "id": "3ce0fe2a",
   "metadata": {},
   "outputs": [],
   "source": [
    "for i in range(10,0):\n",
    "    print(i)"
   ]
  },
  {
   "cell_type": "markdown",
   "id": "0cc00201",
   "metadata": {},
   "source": [
    "split(): the function can be used to separate a string using a specified delimited. \n",
    "    By default, the delimiter is a white space."
   ]
  },
  {
   "cell_type": "code",
   "execution_count": null,
   "id": "1eb3e512",
   "metadata": {},
   "outputs": [],
   "source": [
    "for i in \"Bonjour,le,monde!\".split():\n",
    "    print(i)"
   ]
  },
  {
   "cell_type": "code",
   "execution_count": null,
   "id": "f5122144",
   "metadata": {},
   "outputs": [],
   "source": [
    "for i in \"Bonjour,le,monde!\".split(\",\"):\n",
    "    print(i)"
   ]
  },
  {
   "cell_type": "markdown",
   "id": "d58a6616",
   "metadata": {},
   "source": [
    "Write a program in Python to display the following output\n",
    "\n",
    "  \n",
    " 1\n",
    " \n",
    " 12\n",
    " \n",
    " 123\n",
    " \n",
    " 1234\n",
    " \n",
    " 12345\n",
    " \n",
    " 123456\n",
    " \n",
    " 1234567\n",
    " \n",
    " 12345678"
   ]
  },
  {
   "cell_type": "markdown",
   "id": "f60e58aa",
   "metadata": {},
   "source": [
    "#### Exercise 3\n",
    "\n",
    "1\\. Sort\n",
    "\n"
   ]
  },
  {
   "cell_type": "code",
   "execution_count": null,
   "id": "943be2ce",
   "metadata": {},
   "outputs": [],
   "source": [
    "num = [10, 20, 30, 40, 50, 10, 20, 30, 40, 50]\n",
    "num.sort()\n",
    "print(num)"
   ]
  },
  {
   "cell_type": "markdown",
   "id": "93f6c35c",
   "metadata": {},
   "source": [
    "2\\. Sort (decreasing order)\n",
    "\n"
   ]
  },
  {
   "cell_type": "code",
   "execution_count": null,
   "id": "38debfdd",
   "metadata": {},
   "outputs": [],
   "source": [
    "num = [10, 20, 30, 40, 50, 10, 20, 30, 40, 50]\n",
    "num.sort(reverse=True)\n",
    "print(num)"
   ]
  },
  {
   "cell_type": "markdown",
   "id": "ca36b36f",
   "metadata": {},
   "source": [
    "3\\. minimum\n",
    "\n"
   ]
  },
  {
   "cell_type": "code",
   "execution_count": null,
   "id": "34a0e168",
   "metadata": {},
   "outputs": [],
   "source": [
    "num = [10, 20, 30, 40, 50, 10, 20, 30, 40, 50]\n",
    "print(min(num))"
   ]
  },
  {
   "cell_type": "markdown",
   "id": "6c1c0ba9",
   "metadata": {},
   "source": [
    "4\\. maximum\n",
    "\n"
   ]
  },
  {
   "cell_type": "code",
   "execution_count": null,
   "id": "86d46e8c",
   "metadata": {},
   "outputs": [],
   "source": [
    "num = [10, 20, 30, 40, 50, 10, 20, 30, 40, 50]\n",
    "print(max(num))"
   ]
  },
  {
   "cell_type": "markdown",
   "id": "362c9939",
   "metadata": {},
   "source": [
    "5\\. sorted()\n",
    "\n",
    "You can use the function if you do not wish to modify your initial list by sorting."
   ]
  },
  {
   "cell_type": "code",
   "execution_count": null,
   "id": "ec215b21",
   "metadata": {},
   "outputs": [],
   "source": [
    "num = [70, 20, 30, 10, 50, 60, 20, 80, 70, 50]\n",
    "sortednum = sorted(num,reverse=True)\n",
    "print(num)\n",
    "print(sortednum)"
   ]
  },
  {
   "cell_type": "code",
   "execution_count": null,
   "id": "293b986e",
   "metadata": {},
   "outputs": [],
   "source": [
    "num = [70, 20, 30, 10, 50, 60, 20, 80, 70, 50]\n",
    "\n",
    "# select first five numbers\n",
    "sortednum = sorted(num,reverse=True)[:5]\n",
    "print(sortednum)"
   ]
  },
  {
   "cell_type": "markdown",
   "id": "6b91e6a8",
   "metadata": {},
   "source": [
    "Modify the code given below to display the five greatest unique numbers.\n",
    "\n"
   ]
  },
  {
   "cell_type": "code",
   "execution_count": null,
   "id": "b3ea117a",
   "metadata": {},
   "outputs": [],
   "source": [
    "print(sorted(\"Bonjour le monde!\".split(), key=str.lower, \n",
    "           reverse=True))\n",
    "  \n",
    "\n",
    "\n"
   ]
  },
  {
   "cell_type": "markdown",
   "id": "e0c410c3",
   "metadata": {},
   "source": [
    "#### Exercise 4\n",
    "\n",
    "1\\. Dictionary\n",
    "\n"
   ]
  },
  {
   "cell_type": "code",
   "execution_count": null,
   "id": "698e101c",
   "metadata": {},
   "outputs": [],
   "source": [
    "a = {\"contente\": 12, \"content\": 12, \"triste\": 2}\n",
    "print(a)\n",
    "print(type(a))"
   ]
  },
  {
   "cell_type": "code",
   "execution_count": null,
   "id": "2765f661",
   "metadata": {},
   "outputs": [],
   "source": [
    "a = {\"contente\": 12, \"content\": 12, \"triste\": 2}\n",
    "for key in a:\n",
    "    print(\"la phrase \", key, \" apparait \", a[key], \" fois\")\n"
   ]
  },
  {
   "cell_type": "code",
   "execution_count": null,
   "id": "59bf90f8",
   "metadata": {},
   "outputs": [],
   "source": [
    "a = {\"contente\": 12, \"content\": 12, \"triste\": 2}\n",
    "for key,value in a.items():\n",
    "    print(\"la phrase \", key, \" apparait \", value, \" fois\")\n",
    "  \n",
    "\n",
    "\n"
   ]
  },
  {
   "cell_type": "code",
   "execution_count": null,
   "id": "c13c7381",
   "metadata": {},
   "outputs": [],
   "source": [
    "a = {\"contente\": 12, \"content\": 12, \"triste\": 2}\n",
    "a[\"joie\"] = 10\n",
    "print(a)\n",
    "  \n",
    "\n",
    "\n"
   ]
  },
  {
   "cell_type": "code",
   "execution_count": null,
   "id": "4cefe32a",
   "metadata": {},
   "outputs": [],
   "source": [
    "a = {\"contente\": 12, \"content\": 12, \"triste\": 2}\n",
    "del a[\"triste\"]\n",
    "print(a)"
   ]
  },
  {
   "cell_type": "code",
   "execution_count": null,
   "id": "32ec6972",
   "metadata": {},
   "outputs": [],
   "source": [
    "mots = {\"contente\": 12, \"content\": 12, \"triste\": 2, \n",
    "     \"joie\" : 10}\n",
    "print(sorted(mots))"
   ]
  },
  {
   "cell_type": "code",
   "execution_count": null,
   "id": "12d3fd1b",
   "metadata": {},
   "outputs": [],
   "source": [
    "mots = {\"contente\": 12, \"content\": 12, \"triste\": 2, \n",
    "     \"joie\" : 10}\n",
    "mots_tuple = [(key, value) for key,value in mots.items()]\n",
    "print(mots_tuple)"
   ]
  },
  {
   "cell_type": "markdown",
   "id": "997ee34c",
   "metadata": {},
   "source": [
    "2\\. itemgetter"
   ]
  },
  {
   "cell_type": "code",
   "execution_count": null,
   "id": "97bcd89c",
   "metadata": {},
   "outputs": [],
   "source": [
    "from operator import itemgetter\n",
    " \n",
    "mots = {\"contente\": 12, \"content\": 12, \"triste\": 2, \n",
    "     \"joie\" : 10}\n",
    "mots_tuple = [(key, value) for key,value in mots.items()]\n",
    "print(sorted(mots_tuple, key=itemgetter(1)))"
   ]
  },
  {
   "cell_type": "markdown",
   "id": "4481b37f",
   "metadata": {},
   "source": [
    "3\\. Interaction with user"
   ]
  },
  {
   "cell_type": "code",
   "execution_count": null,
   "id": "85a270a2",
   "metadata": {},
   "outputs": [],
   "source": [
    "# nom = input(\"Quel est votre nom?\")\n",
    "# print(nom)"
   ]
  },
  {
   "cell_type": "code",
   "execution_count": null,
   "id": "f1c89bc9",
   "metadata": {},
   "outputs": [],
   "source": [
    "# age = input(\"Quel est votre âge? \")\n",
    "# print(age)\n",
    "# print(type(age))"
   ]
  },
  {
   "cell_type": "code",
   "execution_count": null,
   "id": "927fd3a4",
   "metadata": {},
   "outputs": [],
   "source": [
    "# age = input(\"Quel est votre âge? \")\n",
    "# age = int(age)\n",
    "# print(age)\n",
    "# print(type(age))"
   ]
  },
  {
   "cell_type": "markdown",
   "id": "a8f91f56",
   "metadata": {},
   "source": [
    "**Question:** Write a program in Python that interacts with the user to\n",
    "obtain the following information of 5 students:\n",
    "\n",
    "-   Name of student\n",
    "-   Age\n",
    "-   Grades in 5 modules\n",
    "\n",
    "Once the information for all the five students is obtained, calculate\n",
    "and display the following values for every module:\n",
    "\n",
    "-   average grade\n",
    "-   maximum grade\n",
    "-   minimum grade\n",
    "\n"
   ]
  },
  {
   "cell_type": "markdown",
   "id": "524f2fdd",
   "metadata": {},
   "source": [
    "#### Exercise 5\n",
    "\n"
   ]
  },
  {
   "cell_type": "markdown",
   "id": "50fbfcf3",
   "metadata": {},
   "source": [
    "1\\. Files\n",
    "\n"
   ]
  },
  {
   "cell_type": "code",
   "execution_count": null,
   "id": "137928da",
   "metadata": {},
   "outputs": [],
   "source": [
    "message = \"Bonjour le monde\"\n",
    "with open(\"bonjour.txt\", \"w\") as file:\n",
    "    file.write(message)\n",
    "file.close()"
   ]
  },
  {
   "cell_type": "code",
   "execution_count": null,
   "id": "1769167e",
   "metadata": {},
   "outputs": [],
   "source": [
    "with open(\"bonjour.txt\", \"r\") as file:\n",
    "    text = file.read()\n",
    "    print(text)\n",
    "file.close()"
   ]
  },
  {
   "cell_type": "code",
   "execution_count": null,
   "id": "1f67a181",
   "metadata": {},
   "outputs": [],
   "source": [
    "message1 = \"Bonjour le monde\"\n",
    "message2 = \"Programmation en Python\"\n",
    "with open(\"bonjour.txt\", \"w\") as file:\n",
    "    file.write(message1)\n",
    "    file.write(message2)\n",
    "file.close()"
   ]
  },
  {
   "cell_type": "code",
   "execution_count": null,
   "id": "b2e5fb12",
   "metadata": {},
   "outputs": [],
   "source": [
    "with open(\"bonjour.txt\", \"r\") as file:\n",
    "    text = file.read()\n",
    "    print(text)\n",
    "file.close()"
   ]
  },
  {
   "cell_type": "code",
   "execution_count": null,
   "id": "9664692d",
   "metadata": {},
   "outputs": [],
   "source": [
    "message1 = \"Bonjour le monde\\n\"\n",
    "message2 = \"Programmation en Python\"\n",
    "with open(\"bonjour.txt\", \"w\") as file:\n",
    "    file.write(message1)\n",
    "    file.write(message2)\n",
    "file.close()\n",
    " \n",
    "with open(\"bonjour.txt\", \"r\") as file:\n",
    "    text = file.read()\n",
    "    print(text)\n",
    "file.close()"
   ]
  },
  {
   "cell_type": "markdown",
   "id": "172ff5a1",
   "metadata": {},
   "source": [
    "2\\. readline()\n",
    "\n",
    "This function can be used to read a file line by line and not the complete content in a single call like read()\n"
   ]
  },
  {
   "cell_type": "code",
   "execution_count": null,
   "id": "025ada90",
   "metadata": {},
   "outputs": [],
   "source": [
    "message1 = \"Bonjour le monde\\n\"\n",
    "message2 = \"Programmation en Python\"\n",
    "with open(\"bonjour.txt\", \"w\") as file:\n",
    "    file.write(message1)\n",
    "    file.write(message2)\n",
    "file.close()"
   ]
  },
  {
   "cell_type": "code",
   "execution_count": null,
   "id": "ddf994c1",
   "metadata": {},
   "outputs": [],
   "source": [
    "with open(\"bonjour.txt\", \"r\") as file:\n",
    "    text = file.readline()\n",
    "    print(text)\n",
    "file.close()"
   ]
  },
  {
   "cell_type": "code",
   "execution_count": null,
   "id": "585d1c7b",
   "metadata": {},
   "outputs": [],
   "source": [
    "message1 = \"Bonjour le monde\\n\"\n",
    "message2 = \"Programmation en Python\\n\"\n",
    "with open(\"bonjour.txt\", \"w\") as file:\n",
    "    file.write(message1)\n",
    "    file.write(message2)\n",
    "file.close()"
   ]
  },
  {
   "cell_type": "code",
   "execution_count": null,
   "id": "c4823af1",
   "metadata": {},
   "outputs": [],
   "source": [
    "with open(\"bonjour.txt\", \"r\") as file:\n",
    "    for line in file:\n",
    "        print(line)\n",
    "file.close()"
   ]
  },
  {
   "cell_type": "markdown",
   "id": "12d4185d",
   "metadata": {},
   "source": [
    "**Question:** Copy any HTML file in your home directory. Write a program\n",
    "in Python to get the following values:\n",
    "\n",
    "-   number of characters in the HTML file\n",
    "-   number of lines in the HTML file\n",
    "-   number of words in the HTML file\n",
    "-   first twenty words in the HTML file\n",
    "-   distinct words in the HTML file\n",
    "\n"
   ]
  },
  {
   "cell_type": "markdown",
   "id": "7a396d8e",
   "metadata": {},
   "source": [
    "**Question:** Copy the CSV\n",
    "file population.csv from the **data** folder. The file contains the population values between\n",
    "1901 and 2016. Write a program in Python to get the maximum value.\n",
    "\n",
    "-   the maximum value of population\n",
    "-   the minimum value of population\n",
    "\n"
   ]
  },
  {
   "cell_type": "code",
   "execution_count": null,
   "id": "4407422d",
   "metadata": {},
   "outputs": [],
   "source": []
  },
  {
   "cell_type": "markdown",
   "id": "cb365e2a",
   "metadata": {},
   "source": [
    "# Numpy"
   ]
  },
  {
   "cell_type": "code",
   "execution_count": null,
   "id": "04512184",
   "metadata": {},
   "outputs": [],
   "source": [
    "import numpy as np"
   ]
  },
  {
   "cell_type": "markdown",
   "id": "cad24584",
   "metadata": {},
   "source": [
    "## Matrix operations"
   ]
  },
  {
   "cell_type": "code",
   "execution_count": null,
   "id": "21f91b0f",
   "metadata": {},
   "outputs": [],
   "source": [
    "a1 = [1, 2, 3, 4]\n",
    "b1 = [5, 6, 7, 8]"
   ]
  },
  {
   "cell_type": "code",
   "execution_count": null,
   "id": "33ffa71f",
   "metadata": {},
   "outputs": [],
   "source": [
    "c1 = np.add(a1,b1)\n",
    "print(c1)"
   ]
  },
  {
   "cell_type": "code",
   "execution_count": null,
   "id": "3ba86796",
   "metadata": {},
   "outputs": [],
   "source": [
    "c1 = np.subtract(a1,b1)\n",
    "print(c1)"
   ]
  },
  {
   "cell_type": "code",
   "execution_count": null,
   "id": "3cf23826",
   "metadata": {},
   "outputs": [],
   "source": [
    "c1 = np.multiply(a1,b1)\n",
    "print(c1)"
   ]
  },
  {
   "cell_type": "code",
   "execution_count": null,
   "id": "442f0116",
   "metadata": {},
   "outputs": [],
   "source": [
    "c1 = np.multiply(4,b1)\n",
    "print(c1)"
   ]
  },
  {
   "cell_type": "code",
   "execution_count": null,
   "id": "7cffdeac",
   "metadata": {},
   "outputs": [],
   "source": [
    "c1 = np.dot(a1,b1)\n",
    "print(c1)"
   ]
  },
  {
   "cell_type": "code",
   "execution_count": null,
   "id": "b8b15c62",
   "metadata": {},
   "outputs": [],
   "source": [
    "c1 = np.dot(5,b1)\n",
    "print(c1)"
   ]
  },
  {
   "cell_type": "code",
   "execution_count": null,
   "id": "1f302b44",
   "metadata": {},
   "outputs": [],
   "source": [
    "b1 = [5, 6, 7, 8]\n",
    "c1 = np.dot(a1,b1)\n",
    "print(c)"
   ]
  },
  {
   "cell_type": "code",
   "execution_count": null,
   "id": "32f939b6",
   "metadata": {},
   "outputs": [],
   "source": [
    "a1 = [1, 2]\n",
    "moyen = np.average(a1)\n",
    "print(moyen)"
   ]
  },
  {
   "cell_type": "markdown",
   "id": "61e63306",
   "metadata": {},
   "source": [
    "## Matrix Transposition"
   ]
  },
  {
   "cell_type": "code",
   "execution_count": null,
   "id": "688e4889",
   "metadata": {},
   "outputs": [],
   "source": [
    "b1 = [[5, 6, 7, 8, 9],\n",
    "      [1, 2, 3, 4, 5]]\n",
    "print(b1)\n",
    "b1 = np.array(b1)\n",
    "print(b1.T)"
   ]
  },
  {
   "cell_type": "markdown",
   "id": "ddc30ca0",
   "metadata": {},
   "source": [
    "## Split a matrix to two, horizontally and vertically"
   ]
  },
  {
   "cell_type": "code",
   "execution_count": null,
   "id": "903293f8",
   "metadata": {},
   "outputs": [],
   "source": [
    "a = [[0, 0, 0],\n",
    "        [0, 1, 0],\n",
    "        [1, 0, 0],\n",
    "        [1, 1, 1]]\n",
    "a = np.array(a)\n",
    "\n",
    "a = np.hsplit(a, [2])\n",
    "\n",
    "a1  = a[0]\n",
    "a2  = a[1]\n",
    "print(a1)\n",
    "print(a2)\n"
   ]
  },
  {
   "cell_type": "code",
   "execution_count": null,
   "id": "412899ed",
   "metadata": {},
   "outputs": [],
   "source": [
    "a = [[0, 0, 0],\n",
    "        [0, 1, 0],\n",
    "        [1, 0, 0],\n",
    "        [1, 1, 1]]\n",
    "a = np.array(a)\n",
    "\n",
    "a = np.vsplit(a, [2])\n",
    "\n",
    "a1  = a[0]\n",
    "a2  = a[1]\n",
    "print(a1)\n",
    "print(a2)\n"
   ]
  },
  {
   "cell_type": "markdown",
   "id": "b51df179",
   "metadata": {},
   "source": [
    "## Operations on two-dimensional matrices"
   ]
  },
  {
   "cell_type": "code",
   "execution_count": null,
   "id": "9bc6e5d2",
   "metadata": {},
   "outputs": [],
   "source": [
    "a2 = [[1, 2, 3, 4],\n",
    "     [1, 2, 3, 4]]\n",
    "b2 = [[5, 6, 7, 8],\n",
    "     [5, 6, 7, 8]]"
   ]
  },
  {
   "cell_type": "code",
   "execution_count": null,
   "id": "f1851c3b",
   "metadata": {},
   "outputs": [],
   "source": [
    "c2 = np.add(a2,b2)\n",
    "print(c2)"
   ]
  },
  {
   "cell_type": "code",
   "execution_count": null,
   "id": "7cbc3613",
   "metadata": {},
   "outputs": [],
   "source": [
    "c2 = np.subtract(a2,b2)\n",
    "print(c2)"
   ]
  },
  {
   "cell_type": "code",
   "execution_count": null,
   "id": "9853eff7",
   "metadata": {},
   "outputs": [],
   "source": [
    "c2 = np.multiply(a2,b2)\n",
    "print(c2)"
   ]
  },
  {
   "cell_type": "code",
   "execution_count": null,
   "id": "826010f1",
   "metadata": {},
   "outputs": [],
   "source": [
    "a2 = [[1, 2, 3, 4],\n",
    "     [1, 2, 3, 4]]\n",
    "a2 = np.array(a2)\n",
    "b2 = [[5, 6, 7, 8],\n",
    "     [5, 6, 7, 8]]\n",
    "b2 = np.array(b2)\n",
    "c2 = np.dot(a2,b2.T)\n",
    "print(c2)"
   ]
  },
  {
   "cell_type": "markdown",
   "id": "3965b651",
   "metadata": {},
   "source": [
    "## Change the shape of a matrix"
   ]
  },
  {
   "cell_type": "code",
   "execution_count": null,
   "id": "6fd6ba02",
   "metadata": {},
   "outputs": [],
   "source": [
    "b2.reshape(4,2)\n",
    "print(b2)"
   ]
  },
  {
   "cell_type": "markdown",
   "id": "94c90ac4",
   "metadata": {},
   "source": [
    "## Creation of a matrix with random numbers"
   ]
  },
  {
   "cell_type": "code",
   "execution_count": null,
   "id": "631b44bc",
   "metadata": {},
   "outputs": [],
   "source": [
    "a = np.random.rand()\n",
    "print(a)"
   ]
  },
  {
   "cell_type": "code",
   "execution_count": null,
   "id": "7bb8f901",
   "metadata": {},
   "outputs": [],
   "source": [
    "a = np.random.rand(1)\n",
    "print(a)"
   ]
  },
  {
   "cell_type": "code",
   "execution_count": null,
   "id": "27130a1c",
   "metadata": {},
   "outputs": [],
   "source": [
    "a = np.random.rand(2,5)\n",
    "print(a)"
   ]
  },
  {
   "cell_type": "code",
   "execution_count": null,
   "id": "607206e3",
   "metadata": {},
   "outputs": [],
   "source": [
    "a = np.random.rand(2,3,3)\n",
    "print(a)"
   ]
  },
  {
   "cell_type": "code",
   "execution_count": null,
   "id": "33ae25f5",
   "metadata": {},
   "outputs": [],
   "source": [
    "a = np.zeros(1)\n",
    "print(a)"
   ]
  },
  {
   "cell_type": "code",
   "execution_count": null,
   "id": "f711a6f9",
   "metadata": {},
   "outputs": [],
   "source": [
    "a = np.zeros(1, dtype=int)\n",
    "print(a)"
   ]
  },
  {
   "cell_type": "code",
   "execution_count": null,
   "id": "879c41f4",
   "metadata": {},
   "outputs": [],
   "source": [
    "a = np.zeros((2,5), dtype=int)\n",
    "print(a)"
   ]
  },
  {
   "cell_type": "markdown",
   "id": "a6016a5d",
   "metadata": {},
   "source": [
    "## Some functions to work with lists"
   ]
  },
  {
   "cell_type": "code",
   "execution_count": null,
   "id": "2d974bef",
   "metadata": {},
   "outputs": [],
   "source": [
    "a = [12, 13, 14, 15]\n",
    "a_reverse = reversed(a)\n",
    "\n",
    "for num in a_reverse:\n",
    "    print(num)"
   ]
  },
  {
   "cell_type": "code",
   "execution_count": null,
   "id": "72019e30",
   "metadata": {},
   "outputs": [],
   "source": [
    "days = ['dimanche', 'lundi', 'mardi', 'mercredi', 'jeudi', 'vendredi']\n",
    "days_num = list(enumerate(days))\n",
    "print(days_num)\n",
    "\n",
    "days_num = list(enumerate(days, start=1))\n",
    "print(days_num)"
   ]
  },
  {
   "cell_type": "code",
   "execution_count": null,
   "id": "671ec1d0",
   "metadata": {},
   "outputs": [],
   "source": [
    "a1 = [1, 2, 3, 4]\n",
    "b1 = [5, 6, 7, 8]\n",
    "\n",
    "zipped = list(zip(a1, b1))\n",
    "print(zipped)"
   ]
  },
  {
   "cell_type": "code",
   "execution_count": null,
   "id": "2202b961",
   "metadata": {},
   "outputs": [],
   "source": [
    "a1 = [1, 2, 3, 4]\n",
    "b1 = [5, 6, 7, 8]\n",
    "\n",
    "ezipped = list(enumerate(zip(a1, b1)))\n",
    "print(ezipped)"
   ]
  }
 ],
 "metadata": {
  "kernelspec": {
   "display_name": "Python 3",
   "language": "python",
   "name": "python3"
  },
  "language_info": {
   "codemirror_mode": {
    "name": "ipython",
    "version": 3
   },
   "file_extension": ".py",
   "mimetype": "text/x-python",
   "name": "python",
   "nbconvert_exporter": "python",
   "pygments_lexer": "ipython3",
   "version": "3.6.9"
  }
 },
 "nbformat": 4,
 "nbformat_minor": 5
}
